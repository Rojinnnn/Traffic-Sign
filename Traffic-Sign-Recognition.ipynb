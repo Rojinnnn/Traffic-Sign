{
 "cells": [
  {
   "cell_type": "markdown",
   "metadata": {},
   "source": [
    "# Traffic Sign Recognition Using Deep Learning\n",
    "One of the applications where deep learning is being used extensively is Autonomous Driving. The autonous driving mechanism needs to detect innumerable objects (pedestrians, other cars, obstacles etc) and make decisions. One of the smaller problems is to detect traffic signs and make decisions accordingly. We are going to solve problems of detecting traffic signs on the road. \n",
    "\n",
    "\n",
    "\n"
   ]
  },
  {
   "cell_type": "markdown",
   "metadata": {},
   "source": [
    "## Exploring dataset"
   ]
  },
  {
   "cell_type": "code",
   "execution_count": 1,
   "metadata": {},
   "outputs": [],
   "source": [
    "import numpy as np\n",
    "import pandas as pd\n",
    "import os\n",
    "import glob\n",
    "import matplotlib.pyplot as plt\n",
    "from skimage import color, exposure, transform, io\n",
    "import tqdm\n",
    "from PIL import Image\n",
    "from sklearn.utils import shuffle\n",
    "from sklearn.model_selection  import train_test_split\n",
    "from skimage.transform import rescale, resize, downscale_local_mean\n",
    "from skimage import data, color\n",
    "from keras.layers import Conv2D, MaxPool2D, Dense, Flatten, Dropout\n",
    "import warnings\n",
    "warnings.filterwarnings('ignore')"
   ]
  },
  {
   "cell_type": "code",
   "execution_count": 2,
   "metadata": {},
   "outputs": [],
   "source": [
    "NUM_CLASSES = 58\n",
    "IMG_SIZE = 43\n",
    "TRAINING_PATH = 'traffic_Data\\DATA\\\\'\n",
    "TEST_PATH = 'traffic_Data\\TEST\\\\'\n",
    "\n",
    "BATCH_SIZE = 32\n",
    "EPOCHS = 30"
   ]
  },
  {
   "cell_type": "markdown",
   "metadata": {},
   "source": [
    "In windows, glob might give us mixed separators which will create problem when we extract the class information from image paths, therefore, creating the below functions to fix the image paths."
   ]
  },
  {
   "cell_type": "code",
   "execution_count": 3,
   "metadata": {},
   "outputs": [
    {
     "name": "stdout",
     "output_type": "stream",
     "text": [
      "Reading Filepaths of each images: \n",
      "0,01,02,03,04,05,06,07,08,09,10,11,12,13,14,15,16,17,18,19,20,21,22,23,24,25,26,27,28,29,30,31,32,33,34,35,36,37,38,39,40,41,42,43,44,45,46,47,48,49,50,51,52,53,54,55,56,57,"
     ]
    }
   ],
   "source": [
    "print('Reading Filepaths of each images: ')\n",
    "for file in os.listdir(TRAINING_PATH):\n",
    "    print(f\"{file}\", end = ',')\n",
    "    globals() [f\"folder_{file}\"] = glob.glob(TRAINING_PATH+f'/{file}/*.png')"
   ]
  },
  {
   "cell_type": "code",
   "execution_count": 4,
   "metadata": {},
   "outputs": [],
   "source": [
    "df = pd.read_csv('labels.csv')"
   ]
  },
  {
   "cell_type": "code",
   "execution_count": 5,
   "metadata": {},
   "outputs": [
    {
     "data": {
      "text/html": [
       "<div>\n",
       "<style scoped>\n",
       "    .dataframe tbody tr th:only-of-type {\n",
       "        vertical-align: middle;\n",
       "    }\n",
       "\n",
       "    .dataframe tbody tr th {\n",
       "        vertical-align: top;\n",
       "    }\n",
       "\n",
       "    .dataframe thead th {\n",
       "        text-align: right;\n",
       "    }\n",
       "</style>\n",
       "<table border=\"1\" class=\"dataframe\">\n",
       "  <thead>\n",
       "    <tr style=\"text-align: right;\">\n",
       "      <th></th>\n",
       "      <th>ClassId</th>\n",
       "      <th>Name</th>\n",
       "    </tr>\n",
       "  </thead>\n",
       "  <tbody>\n",
       "    <tr>\n",
       "      <th>0</th>\n",
       "      <td>0</td>\n",
       "      <td>Speed limit (5km/h)</td>\n",
       "    </tr>\n",
       "    <tr>\n",
       "      <th>1</th>\n",
       "      <td>1</td>\n",
       "      <td>Speed limit (15km/h)</td>\n",
       "    </tr>\n",
       "    <tr>\n",
       "      <th>2</th>\n",
       "      <td>2</td>\n",
       "      <td>Speed limit (30km/h)</td>\n",
       "    </tr>\n",
       "    <tr>\n",
       "      <th>3</th>\n",
       "      <td>3</td>\n",
       "      <td>Speed limit (40km/h)</td>\n",
       "    </tr>\n",
       "    <tr>\n",
       "      <th>4</th>\n",
       "      <td>4</td>\n",
       "      <td>Speed limit (50km/h)</td>\n",
       "    </tr>\n",
       "    <tr>\n",
       "      <th>5</th>\n",
       "      <td>5</td>\n",
       "      <td>Speed limit (60km/h)</td>\n",
       "    </tr>\n",
       "    <tr>\n",
       "      <th>6</th>\n",
       "      <td>6</td>\n",
       "      <td>Speed limit (70km/h)</td>\n",
       "    </tr>\n",
       "    <tr>\n",
       "      <th>7</th>\n",
       "      <td>7</td>\n",
       "      <td>speed limit (80km/h)</td>\n",
       "    </tr>\n",
       "    <tr>\n",
       "      <th>8</th>\n",
       "      <td>8</td>\n",
       "      <td>Dont Go straight or left</td>\n",
       "    </tr>\n",
       "    <tr>\n",
       "      <th>9</th>\n",
       "      <td>9</td>\n",
       "      <td>Dont Go straight or Right</td>\n",
       "    </tr>\n",
       "    <tr>\n",
       "      <th>10</th>\n",
       "      <td>10</td>\n",
       "      <td>Dont Go straight</td>\n",
       "    </tr>\n",
       "    <tr>\n",
       "      <th>11</th>\n",
       "      <td>11</td>\n",
       "      <td>Dont Go Left</td>\n",
       "    </tr>\n",
       "    <tr>\n",
       "      <th>12</th>\n",
       "      <td>12</td>\n",
       "      <td>Dont Go Left or Right</td>\n",
       "    </tr>\n",
       "    <tr>\n",
       "      <th>13</th>\n",
       "      <td>13</td>\n",
       "      <td>Dont Go Right</td>\n",
       "    </tr>\n",
       "    <tr>\n",
       "      <th>14</th>\n",
       "      <td>14</td>\n",
       "      <td>Dont overtake from Left</td>\n",
       "    </tr>\n",
       "    <tr>\n",
       "      <th>15</th>\n",
       "      <td>15</td>\n",
       "      <td>No Uturn</td>\n",
       "    </tr>\n",
       "    <tr>\n",
       "      <th>16</th>\n",
       "      <td>16</td>\n",
       "      <td>No Car</td>\n",
       "    </tr>\n",
       "    <tr>\n",
       "      <th>17</th>\n",
       "      <td>17</td>\n",
       "      <td>No horn</td>\n",
       "    </tr>\n",
       "    <tr>\n",
       "      <th>18</th>\n",
       "      <td>18</td>\n",
       "      <td>Speed limit (40km/h)</td>\n",
       "    </tr>\n",
       "    <tr>\n",
       "      <th>19</th>\n",
       "      <td>19</td>\n",
       "      <td>Speed limit (50km/h)</td>\n",
       "    </tr>\n",
       "    <tr>\n",
       "      <th>20</th>\n",
       "      <td>20</td>\n",
       "      <td>Go straight or right</td>\n",
       "    </tr>\n",
       "    <tr>\n",
       "      <th>21</th>\n",
       "      <td>21</td>\n",
       "      <td>Go straight</td>\n",
       "    </tr>\n",
       "    <tr>\n",
       "      <th>22</th>\n",
       "      <td>22</td>\n",
       "      <td>Go Left</td>\n",
       "    </tr>\n",
       "    <tr>\n",
       "      <th>23</th>\n",
       "      <td>23</td>\n",
       "      <td>Go Left or right</td>\n",
       "    </tr>\n",
       "    <tr>\n",
       "      <th>24</th>\n",
       "      <td>24</td>\n",
       "      <td>Go Right</td>\n",
       "    </tr>\n",
       "    <tr>\n",
       "      <th>25</th>\n",
       "      <td>25</td>\n",
       "      <td>keep Left</td>\n",
       "    </tr>\n",
       "    <tr>\n",
       "      <th>26</th>\n",
       "      <td>26</td>\n",
       "      <td>keep Right</td>\n",
       "    </tr>\n",
       "    <tr>\n",
       "      <th>27</th>\n",
       "      <td>27</td>\n",
       "      <td>Roundabout mandatory</td>\n",
       "    </tr>\n",
       "    <tr>\n",
       "      <th>28</th>\n",
       "      <td>28</td>\n",
       "      <td>watch out for cars</td>\n",
       "    </tr>\n",
       "    <tr>\n",
       "      <th>29</th>\n",
       "      <td>29</td>\n",
       "      <td>Horn</td>\n",
       "    </tr>\n",
       "    <tr>\n",
       "      <th>30</th>\n",
       "      <td>30</td>\n",
       "      <td>Bicycles crossing</td>\n",
       "    </tr>\n",
       "    <tr>\n",
       "      <th>31</th>\n",
       "      <td>31</td>\n",
       "      <td>Uturn</td>\n",
       "    </tr>\n",
       "    <tr>\n",
       "      <th>32</th>\n",
       "      <td>32</td>\n",
       "      <td>Road Divider</td>\n",
       "    </tr>\n",
       "    <tr>\n",
       "      <th>33</th>\n",
       "      <td>33</td>\n",
       "      <td>Traffic signals</td>\n",
       "    </tr>\n",
       "    <tr>\n",
       "      <th>34</th>\n",
       "      <td>34</td>\n",
       "      <td>Danger Ahead</td>\n",
       "    </tr>\n",
       "    <tr>\n",
       "      <th>35</th>\n",
       "      <td>35</td>\n",
       "      <td>Zebra Crossing</td>\n",
       "    </tr>\n",
       "    <tr>\n",
       "      <th>36</th>\n",
       "      <td>36</td>\n",
       "      <td>Bicycles crossing</td>\n",
       "    </tr>\n",
       "    <tr>\n",
       "      <th>37</th>\n",
       "      <td>37</td>\n",
       "      <td>Children crossing</td>\n",
       "    </tr>\n",
       "    <tr>\n",
       "      <th>38</th>\n",
       "      <td>38</td>\n",
       "      <td>Dangerous curve to the left</td>\n",
       "    </tr>\n",
       "    <tr>\n",
       "      <th>39</th>\n",
       "      <td>39</td>\n",
       "      <td>Dangerous curve to the right</td>\n",
       "    </tr>\n",
       "    <tr>\n",
       "      <th>40</th>\n",
       "      <td>40</td>\n",
       "      <td>Unknown1</td>\n",
       "    </tr>\n",
       "    <tr>\n",
       "      <th>41</th>\n",
       "      <td>41</td>\n",
       "      <td>Unknown2</td>\n",
       "    </tr>\n",
       "    <tr>\n",
       "      <th>42</th>\n",
       "      <td>42</td>\n",
       "      <td>Unknown3</td>\n",
       "    </tr>\n",
       "    <tr>\n",
       "      <th>43</th>\n",
       "      <td>43</td>\n",
       "      <td>Go right or straight</td>\n",
       "    </tr>\n",
       "    <tr>\n",
       "      <th>44</th>\n",
       "      <td>44</td>\n",
       "      <td>Go left or straight</td>\n",
       "    </tr>\n",
       "    <tr>\n",
       "      <th>45</th>\n",
       "      <td>45</td>\n",
       "      <td>Unknown4</td>\n",
       "    </tr>\n",
       "    <tr>\n",
       "      <th>46</th>\n",
       "      <td>46</td>\n",
       "      <td>ZigZag Curve</td>\n",
       "    </tr>\n",
       "    <tr>\n",
       "      <th>47</th>\n",
       "      <td>47</td>\n",
       "      <td>Train Crossing</td>\n",
       "    </tr>\n",
       "    <tr>\n",
       "      <th>48</th>\n",
       "      <td>48</td>\n",
       "      <td>Under Construction</td>\n",
       "    </tr>\n",
       "    <tr>\n",
       "      <th>49</th>\n",
       "      <td>49</td>\n",
       "      <td>Unknown5</td>\n",
       "    </tr>\n",
       "    <tr>\n",
       "      <th>50</th>\n",
       "      <td>50</td>\n",
       "      <td>Fences</td>\n",
       "    </tr>\n",
       "    <tr>\n",
       "      <th>51</th>\n",
       "      <td>51</td>\n",
       "      <td>Heavy Vehicle Accidents</td>\n",
       "    </tr>\n",
       "    <tr>\n",
       "      <th>52</th>\n",
       "      <td>52</td>\n",
       "      <td>Unknown6</td>\n",
       "    </tr>\n",
       "    <tr>\n",
       "      <th>53</th>\n",
       "      <td>53</td>\n",
       "      <td>Give Way</td>\n",
       "    </tr>\n",
       "    <tr>\n",
       "      <th>54</th>\n",
       "      <td>54</td>\n",
       "      <td>No stopping</td>\n",
       "    </tr>\n",
       "    <tr>\n",
       "      <th>55</th>\n",
       "      <td>55</td>\n",
       "      <td>No entry</td>\n",
       "    </tr>\n",
       "    <tr>\n",
       "      <th>56</th>\n",
       "      <td>56</td>\n",
       "      <td>Unknown7</td>\n",
       "    </tr>\n",
       "    <tr>\n",
       "      <th>57</th>\n",
       "      <td>57</td>\n",
       "      <td>Unknown8</td>\n",
       "    </tr>\n",
       "  </tbody>\n",
       "</table>\n",
       "</div>"
      ],
      "text/plain": [
       "    ClassId                          Name\n",
       "0         0           Speed limit (5km/h)\n",
       "1         1          Speed limit (15km/h)\n",
       "2         2          Speed limit (30km/h)\n",
       "3         3          Speed limit (40km/h)\n",
       "4         4          Speed limit (50km/h)\n",
       "5         5          Speed limit (60km/h)\n",
       "6         6          Speed limit (70km/h)\n",
       "7         7          speed limit (80km/h)\n",
       "8         8      Dont Go straight or left\n",
       "9         9     Dont Go straight or Right\n",
       "10       10              Dont Go straight\n",
       "11       11                  Dont Go Left\n",
       "12       12         Dont Go Left or Right\n",
       "13       13                 Dont Go Right\n",
       "14       14       Dont overtake from Left\n",
       "15       15                      No Uturn\n",
       "16       16                        No Car\n",
       "17       17                       No horn\n",
       "18       18          Speed limit (40km/h)\n",
       "19       19          Speed limit (50km/h)\n",
       "20       20          Go straight or right\n",
       "21       21                   Go straight\n",
       "22       22                       Go Left\n",
       "23       23              Go Left or right\n",
       "24       24                      Go Right\n",
       "25       25                     keep Left\n",
       "26       26                    keep Right\n",
       "27       27          Roundabout mandatory\n",
       "28       28            watch out for cars\n",
       "29       29                          Horn\n",
       "30       30             Bicycles crossing\n",
       "31       31                         Uturn\n",
       "32       32                  Road Divider\n",
       "33       33               Traffic signals\n",
       "34       34                  Danger Ahead\n",
       "35       35                Zebra Crossing\n",
       "36       36             Bicycles crossing\n",
       "37       37             Children crossing\n",
       "38       38   Dangerous curve to the left\n",
       "39       39  Dangerous curve to the right\n",
       "40       40                      Unknown1\n",
       "41       41                      Unknown2\n",
       "42       42                      Unknown3\n",
       "43       43          Go right or straight\n",
       "44       44           Go left or straight\n",
       "45       45                      Unknown4\n",
       "46       46                  ZigZag Curve\n",
       "47       47                Train Crossing\n",
       "48       48            Under Construction\n",
       "49       49                      Unknown5\n",
       "50       50                        Fences\n",
       "51       51       Heavy Vehicle Accidents\n",
       "52       52                      Unknown6\n",
       "53       53                      Give Way\n",
       "54       54                   No stopping\n",
       "55       55                      No entry\n",
       "56       56                      Unknown7\n",
       "57       57                      Unknown8"
      ]
     },
     "execution_count": 5,
     "metadata": {},
     "output_type": "execute_result"
    }
   ],
   "source": [
    "df"
   ]
  },
  {
   "cell_type": "code",
   "execution_count": 6,
   "metadata": {},
   "outputs": [],
   "source": [
    "label_names = dict(enumerate(os.listdir(TRAINING_PATH)))"
   ]
  },
  {
   "cell_type": "code",
   "execution_count": 7,
   "metadata": {},
   "outputs": [],
   "source": [
    "label_names = dict([(int(j),i)for (i,j) in label_names.items()])"
   ]
  },
  {
   "cell_type": "code",
   "execution_count": 8,
   "metadata": {},
   "outputs": [
    {
     "data": {
      "text/plain": [
       "{0: 0,\n",
       " 1: 1,\n",
       " 2: 2,\n",
       " 3: 3,\n",
       " 4: 4,\n",
       " 5: 5,\n",
       " 6: 6,\n",
       " 7: 7,\n",
       " 8: 8,\n",
       " 9: 9,\n",
       " 10: 10,\n",
       " 11: 11,\n",
       " 12: 12,\n",
       " 13: 13,\n",
       " 14: 14,\n",
       " 15: 15,\n",
       " 16: 16,\n",
       " 17: 17,\n",
       " 18: 18,\n",
       " 19: 19,\n",
       " 20: 20,\n",
       " 21: 21,\n",
       " 22: 22,\n",
       " 23: 23,\n",
       " 24: 24,\n",
       " 25: 25,\n",
       " 26: 26,\n",
       " 27: 27,\n",
       " 28: 28,\n",
       " 29: 29,\n",
       " 30: 30,\n",
       " 31: 31,\n",
       " 32: 32,\n",
       " 33: 33,\n",
       " 34: 34,\n",
       " 35: 35,\n",
       " 36: 36,\n",
       " 37: 37,\n",
       " 38: 38,\n",
       " 39: 39,\n",
       " 40: 40,\n",
       " 41: 41,\n",
       " 42: 42,\n",
       " 43: 43,\n",
       " 44: 44,\n",
       " 45: 45,\n",
       " 46: 46,\n",
       " 47: 47,\n",
       " 48: 48,\n",
       " 49: 49,\n",
       " 50: 50,\n",
       " 51: 51,\n",
       " 52: 52,\n",
       " 53: 53,\n",
       " 54: 54,\n",
       " 55: 55,\n",
       " 56: 56,\n",
       " 57: 57}"
      ]
     },
     "execution_count": 8,
     "metadata": {},
     "output_type": "execute_result"
    }
   ],
   "source": [
    "label_names"
   ]
  },
  {
   "cell_type": "code",
   "execution_count": 9,
   "metadata": {},
   "outputs": [],
   "source": [
    "df['ClassId'] = df['ClassId'].map(label_names)"
   ]
  },
  {
   "cell_type": "code",
   "execution_count": 10,
   "metadata": {},
   "outputs": [
    {
     "data": {
      "text/html": [
       "<div>\n",
       "<style scoped>\n",
       "    .dataframe tbody tr th:only-of-type {\n",
       "        vertical-align: middle;\n",
       "    }\n",
       "\n",
       "    .dataframe tbody tr th {\n",
       "        vertical-align: top;\n",
       "    }\n",
       "\n",
       "    .dataframe thead th {\n",
       "        text-align: right;\n",
       "    }\n",
       "</style>\n",
       "<table border=\"1\" class=\"dataframe\">\n",
       "  <thead>\n",
       "    <tr style=\"text-align: right;\">\n",
       "      <th></th>\n",
       "      <th>ClassId</th>\n",
       "      <th>Name</th>\n",
       "    </tr>\n",
       "  </thead>\n",
       "  <tbody>\n",
       "    <tr>\n",
       "      <th>0</th>\n",
       "      <td>0</td>\n",
       "      <td>Speed limit (5km/h)</td>\n",
       "    </tr>\n",
       "    <tr>\n",
       "      <th>1</th>\n",
       "      <td>1</td>\n",
       "      <td>Speed limit (15km/h)</td>\n",
       "    </tr>\n",
       "    <tr>\n",
       "      <th>2</th>\n",
       "      <td>2</td>\n",
       "      <td>Speed limit (30km/h)</td>\n",
       "    </tr>\n",
       "    <tr>\n",
       "      <th>3</th>\n",
       "      <td>3</td>\n",
       "      <td>Speed limit (40km/h)</td>\n",
       "    </tr>\n",
       "    <tr>\n",
       "      <th>4</th>\n",
       "      <td>4</td>\n",
       "      <td>Speed limit (50km/h)</td>\n",
       "    </tr>\n",
       "    <tr>\n",
       "      <th>5</th>\n",
       "      <td>5</td>\n",
       "      <td>Speed limit (60km/h)</td>\n",
       "    </tr>\n",
       "    <tr>\n",
       "      <th>6</th>\n",
       "      <td>6</td>\n",
       "      <td>Speed limit (70km/h)</td>\n",
       "    </tr>\n",
       "    <tr>\n",
       "      <th>7</th>\n",
       "      <td>7</td>\n",
       "      <td>speed limit (80km/h)</td>\n",
       "    </tr>\n",
       "    <tr>\n",
       "      <th>8</th>\n",
       "      <td>8</td>\n",
       "      <td>Dont Go straight or left</td>\n",
       "    </tr>\n",
       "    <tr>\n",
       "      <th>9</th>\n",
       "      <td>9</td>\n",
       "      <td>Dont Go straight or Right</td>\n",
       "    </tr>\n",
       "    <tr>\n",
       "      <th>10</th>\n",
       "      <td>10</td>\n",
       "      <td>Dont Go straight</td>\n",
       "    </tr>\n",
       "    <tr>\n",
       "      <th>11</th>\n",
       "      <td>11</td>\n",
       "      <td>Dont Go Left</td>\n",
       "    </tr>\n",
       "    <tr>\n",
       "      <th>12</th>\n",
       "      <td>12</td>\n",
       "      <td>Dont Go Left or Right</td>\n",
       "    </tr>\n",
       "    <tr>\n",
       "      <th>13</th>\n",
       "      <td>13</td>\n",
       "      <td>Dont Go Right</td>\n",
       "    </tr>\n",
       "    <tr>\n",
       "      <th>14</th>\n",
       "      <td>14</td>\n",
       "      <td>Dont overtake from Left</td>\n",
       "    </tr>\n",
       "    <tr>\n",
       "      <th>15</th>\n",
       "      <td>15</td>\n",
       "      <td>No Uturn</td>\n",
       "    </tr>\n",
       "    <tr>\n",
       "      <th>16</th>\n",
       "      <td>16</td>\n",
       "      <td>No Car</td>\n",
       "    </tr>\n",
       "    <tr>\n",
       "      <th>17</th>\n",
       "      <td>17</td>\n",
       "      <td>No horn</td>\n",
       "    </tr>\n",
       "    <tr>\n",
       "      <th>18</th>\n",
       "      <td>18</td>\n",
       "      <td>Speed limit (40km/h)</td>\n",
       "    </tr>\n",
       "    <tr>\n",
       "      <th>19</th>\n",
       "      <td>19</td>\n",
       "      <td>Speed limit (50km/h)</td>\n",
       "    </tr>\n",
       "    <tr>\n",
       "      <th>20</th>\n",
       "      <td>20</td>\n",
       "      <td>Go straight or right</td>\n",
       "    </tr>\n",
       "    <tr>\n",
       "      <th>21</th>\n",
       "      <td>21</td>\n",
       "      <td>Go straight</td>\n",
       "    </tr>\n",
       "    <tr>\n",
       "      <th>22</th>\n",
       "      <td>22</td>\n",
       "      <td>Go Left</td>\n",
       "    </tr>\n",
       "    <tr>\n",
       "      <th>23</th>\n",
       "      <td>23</td>\n",
       "      <td>Go Left or right</td>\n",
       "    </tr>\n",
       "    <tr>\n",
       "      <th>24</th>\n",
       "      <td>24</td>\n",
       "      <td>Go Right</td>\n",
       "    </tr>\n",
       "    <tr>\n",
       "      <th>25</th>\n",
       "      <td>25</td>\n",
       "      <td>keep Left</td>\n",
       "    </tr>\n",
       "    <tr>\n",
       "      <th>26</th>\n",
       "      <td>26</td>\n",
       "      <td>keep Right</td>\n",
       "    </tr>\n",
       "    <tr>\n",
       "      <th>27</th>\n",
       "      <td>27</td>\n",
       "      <td>Roundabout mandatory</td>\n",
       "    </tr>\n",
       "    <tr>\n",
       "      <th>28</th>\n",
       "      <td>28</td>\n",
       "      <td>watch out for cars</td>\n",
       "    </tr>\n",
       "    <tr>\n",
       "      <th>29</th>\n",
       "      <td>29</td>\n",
       "      <td>Horn</td>\n",
       "    </tr>\n",
       "    <tr>\n",
       "      <th>30</th>\n",
       "      <td>30</td>\n",
       "      <td>Bicycles crossing</td>\n",
       "    </tr>\n",
       "    <tr>\n",
       "      <th>31</th>\n",
       "      <td>31</td>\n",
       "      <td>Uturn</td>\n",
       "    </tr>\n",
       "    <tr>\n",
       "      <th>32</th>\n",
       "      <td>32</td>\n",
       "      <td>Road Divider</td>\n",
       "    </tr>\n",
       "    <tr>\n",
       "      <th>33</th>\n",
       "      <td>33</td>\n",
       "      <td>Traffic signals</td>\n",
       "    </tr>\n",
       "    <tr>\n",
       "      <th>34</th>\n",
       "      <td>34</td>\n",
       "      <td>Danger Ahead</td>\n",
       "    </tr>\n",
       "    <tr>\n",
       "      <th>35</th>\n",
       "      <td>35</td>\n",
       "      <td>Zebra Crossing</td>\n",
       "    </tr>\n",
       "    <tr>\n",
       "      <th>36</th>\n",
       "      <td>36</td>\n",
       "      <td>Bicycles crossing</td>\n",
       "    </tr>\n",
       "    <tr>\n",
       "      <th>37</th>\n",
       "      <td>37</td>\n",
       "      <td>Children crossing</td>\n",
       "    </tr>\n",
       "    <tr>\n",
       "      <th>38</th>\n",
       "      <td>38</td>\n",
       "      <td>Dangerous curve to the left</td>\n",
       "    </tr>\n",
       "    <tr>\n",
       "      <th>39</th>\n",
       "      <td>39</td>\n",
       "      <td>Dangerous curve to the right</td>\n",
       "    </tr>\n",
       "    <tr>\n",
       "      <th>40</th>\n",
       "      <td>40</td>\n",
       "      <td>Unknown1</td>\n",
       "    </tr>\n",
       "    <tr>\n",
       "      <th>41</th>\n",
       "      <td>41</td>\n",
       "      <td>Unknown2</td>\n",
       "    </tr>\n",
       "    <tr>\n",
       "      <th>42</th>\n",
       "      <td>42</td>\n",
       "      <td>Unknown3</td>\n",
       "    </tr>\n",
       "    <tr>\n",
       "      <th>43</th>\n",
       "      <td>43</td>\n",
       "      <td>Go right or straight</td>\n",
       "    </tr>\n",
       "    <tr>\n",
       "      <th>44</th>\n",
       "      <td>44</td>\n",
       "      <td>Go left or straight</td>\n",
       "    </tr>\n",
       "    <tr>\n",
       "      <th>45</th>\n",
       "      <td>45</td>\n",
       "      <td>Unknown4</td>\n",
       "    </tr>\n",
       "    <tr>\n",
       "      <th>46</th>\n",
       "      <td>46</td>\n",
       "      <td>ZigZag Curve</td>\n",
       "    </tr>\n",
       "    <tr>\n",
       "      <th>47</th>\n",
       "      <td>47</td>\n",
       "      <td>Train Crossing</td>\n",
       "    </tr>\n",
       "    <tr>\n",
       "      <th>48</th>\n",
       "      <td>48</td>\n",
       "      <td>Under Construction</td>\n",
       "    </tr>\n",
       "    <tr>\n",
       "      <th>49</th>\n",
       "      <td>49</td>\n",
       "      <td>Unknown5</td>\n",
       "    </tr>\n",
       "    <tr>\n",
       "      <th>50</th>\n",
       "      <td>50</td>\n",
       "      <td>Fences</td>\n",
       "    </tr>\n",
       "    <tr>\n",
       "      <th>51</th>\n",
       "      <td>51</td>\n",
       "      <td>Heavy Vehicle Accidents</td>\n",
       "    </tr>\n",
       "    <tr>\n",
       "      <th>52</th>\n",
       "      <td>52</td>\n",
       "      <td>Unknown6</td>\n",
       "    </tr>\n",
       "    <tr>\n",
       "      <th>53</th>\n",
       "      <td>53</td>\n",
       "      <td>Give Way</td>\n",
       "    </tr>\n",
       "    <tr>\n",
       "      <th>54</th>\n",
       "      <td>54</td>\n",
       "      <td>No stopping</td>\n",
       "    </tr>\n",
       "    <tr>\n",
       "      <th>55</th>\n",
       "      <td>55</td>\n",
       "      <td>No entry</td>\n",
       "    </tr>\n",
       "    <tr>\n",
       "      <th>56</th>\n",
       "      <td>56</td>\n",
       "      <td>Unknown7</td>\n",
       "    </tr>\n",
       "    <tr>\n",
       "      <th>57</th>\n",
       "      <td>57</td>\n",
       "      <td>Unknown8</td>\n",
       "    </tr>\n",
       "  </tbody>\n",
       "</table>\n",
       "</div>"
      ],
      "text/plain": [
       "    ClassId                          Name\n",
       "0         0           Speed limit (5km/h)\n",
       "1         1          Speed limit (15km/h)\n",
       "2         2          Speed limit (30km/h)\n",
       "3         3          Speed limit (40km/h)\n",
       "4         4          Speed limit (50km/h)\n",
       "5         5          Speed limit (60km/h)\n",
       "6         6          Speed limit (70km/h)\n",
       "7         7          speed limit (80km/h)\n",
       "8         8      Dont Go straight or left\n",
       "9         9     Dont Go straight or Right\n",
       "10       10              Dont Go straight\n",
       "11       11                  Dont Go Left\n",
       "12       12         Dont Go Left or Right\n",
       "13       13                 Dont Go Right\n",
       "14       14       Dont overtake from Left\n",
       "15       15                      No Uturn\n",
       "16       16                        No Car\n",
       "17       17                       No horn\n",
       "18       18          Speed limit (40km/h)\n",
       "19       19          Speed limit (50km/h)\n",
       "20       20          Go straight or right\n",
       "21       21                   Go straight\n",
       "22       22                       Go Left\n",
       "23       23              Go Left or right\n",
       "24       24                      Go Right\n",
       "25       25                     keep Left\n",
       "26       26                    keep Right\n",
       "27       27          Roundabout mandatory\n",
       "28       28            watch out for cars\n",
       "29       29                          Horn\n",
       "30       30             Bicycles crossing\n",
       "31       31                         Uturn\n",
       "32       32                  Road Divider\n",
       "33       33               Traffic signals\n",
       "34       34                  Danger Ahead\n",
       "35       35                Zebra Crossing\n",
       "36       36             Bicycles crossing\n",
       "37       37             Children crossing\n",
       "38       38   Dangerous curve to the left\n",
       "39       39  Dangerous curve to the right\n",
       "40       40                      Unknown1\n",
       "41       41                      Unknown2\n",
       "42       42                      Unknown3\n",
       "43       43          Go right or straight\n",
       "44       44           Go left or straight\n",
       "45       45                      Unknown4\n",
       "46       46                  ZigZag Curve\n",
       "47       47                Train Crossing\n",
       "48       48            Under Construction\n",
       "49       49                      Unknown5\n",
       "50       50                        Fences\n",
       "51       51       Heavy Vehicle Accidents\n",
       "52       52                      Unknown6\n",
       "53       53                      Give Way\n",
       "54       54                   No stopping\n",
       "55       55                      No entry\n",
       "56       56                      Unknown7\n",
       "57       57                      Unknown8"
      ]
     },
     "execution_count": 10,
     "metadata": {},
     "output_type": "execute_result"
    }
   ],
   "source": [
    "df"
   ]
  },
  {
   "cell_type": "code",
   "execution_count": 11,
   "metadata": {},
   "outputs": [],
   "source": [
    "df.set_index('ClassId', inplace = True)"
   ]
  },
  {
   "cell_type": "code",
   "execution_count": 26,
   "metadata": {},
   "outputs": [
    {
     "data": {
      "text/html": [
       "<div>\n",
       "<style scoped>\n",
       "    .dataframe tbody tr th:only-of-type {\n",
       "        vertical-align: middle;\n",
       "    }\n",
       "\n",
       "    .dataframe tbody tr th {\n",
       "        vertical-align: top;\n",
       "    }\n",
       "\n",
       "    .dataframe thead th {\n",
       "        text-align: right;\n",
       "    }\n",
       "</style>\n",
       "<table border=\"1\" class=\"dataframe\">\n",
       "  <thead>\n",
       "    <tr style=\"text-align: right;\">\n",
       "      <th></th>\n",
       "      <th>Name</th>\n",
       "    </tr>\n",
       "    <tr>\n",
       "      <th>ClassId</th>\n",
       "      <th></th>\n",
       "    </tr>\n",
       "  </thead>\n",
       "  <tbody>\n",
       "    <tr>\n",
       "      <th>0</th>\n",
       "      <td>Speed limit (5km/h)</td>\n",
       "    </tr>\n",
       "    <tr>\n",
       "      <th>1</th>\n",
       "      <td>Speed limit (15km/h)</td>\n",
       "    </tr>\n",
       "    <tr>\n",
       "      <th>2</th>\n",
       "      <td>Speed limit (30km/h)</td>\n",
       "    </tr>\n",
       "    <tr>\n",
       "      <th>3</th>\n",
       "      <td>Speed limit (40km/h)</td>\n",
       "    </tr>\n",
       "    <tr>\n",
       "      <th>4</th>\n",
       "      <td>Speed limit (50km/h)</td>\n",
       "    </tr>\n",
       "    <tr>\n",
       "      <th>5</th>\n",
       "      <td>Speed limit (60km/h)</td>\n",
       "    </tr>\n",
       "    <tr>\n",
       "      <th>6</th>\n",
       "      <td>Speed limit (70km/h)</td>\n",
       "    </tr>\n",
       "    <tr>\n",
       "      <th>7</th>\n",
       "      <td>speed limit (80km/h)</td>\n",
       "    </tr>\n",
       "    <tr>\n",
       "      <th>8</th>\n",
       "      <td>Dont Go straight or left</td>\n",
       "    </tr>\n",
       "    <tr>\n",
       "      <th>9</th>\n",
       "      <td>Dont Go straight or Right</td>\n",
       "    </tr>\n",
       "    <tr>\n",
       "      <th>10</th>\n",
       "      <td>Dont Go straight</td>\n",
       "    </tr>\n",
       "    <tr>\n",
       "      <th>11</th>\n",
       "      <td>Dont Go Left</td>\n",
       "    </tr>\n",
       "    <tr>\n",
       "      <th>12</th>\n",
       "      <td>Dont Go Left or Right</td>\n",
       "    </tr>\n",
       "    <tr>\n",
       "      <th>13</th>\n",
       "      <td>Dont Go Right</td>\n",
       "    </tr>\n",
       "    <tr>\n",
       "      <th>14</th>\n",
       "      <td>Dont overtake from Left</td>\n",
       "    </tr>\n",
       "    <tr>\n",
       "      <th>15</th>\n",
       "      <td>No Uturn</td>\n",
       "    </tr>\n",
       "    <tr>\n",
       "      <th>16</th>\n",
       "      <td>No Car</td>\n",
       "    </tr>\n",
       "    <tr>\n",
       "      <th>17</th>\n",
       "      <td>No horn</td>\n",
       "    </tr>\n",
       "    <tr>\n",
       "      <th>18</th>\n",
       "      <td>Speed limit (40km/h)</td>\n",
       "    </tr>\n",
       "    <tr>\n",
       "      <th>19</th>\n",
       "      <td>Speed limit (50km/h)</td>\n",
       "    </tr>\n",
       "    <tr>\n",
       "      <th>20</th>\n",
       "      <td>Go straight or right</td>\n",
       "    </tr>\n",
       "    <tr>\n",
       "      <th>21</th>\n",
       "      <td>Go straight</td>\n",
       "    </tr>\n",
       "    <tr>\n",
       "      <th>22</th>\n",
       "      <td>Go Left</td>\n",
       "    </tr>\n",
       "    <tr>\n",
       "      <th>23</th>\n",
       "      <td>Go Left or right</td>\n",
       "    </tr>\n",
       "    <tr>\n",
       "      <th>24</th>\n",
       "      <td>Go Right</td>\n",
       "    </tr>\n",
       "    <tr>\n",
       "      <th>25</th>\n",
       "      <td>keep Left</td>\n",
       "    </tr>\n",
       "    <tr>\n",
       "      <th>26</th>\n",
       "      <td>keep Right</td>\n",
       "    </tr>\n",
       "    <tr>\n",
       "      <th>27</th>\n",
       "      <td>Roundabout mandatory</td>\n",
       "    </tr>\n",
       "    <tr>\n",
       "      <th>28</th>\n",
       "      <td>watch out for cars</td>\n",
       "    </tr>\n",
       "    <tr>\n",
       "      <th>29</th>\n",
       "      <td>Horn</td>\n",
       "    </tr>\n",
       "    <tr>\n",
       "      <th>30</th>\n",
       "      <td>Bicycles crossing</td>\n",
       "    </tr>\n",
       "    <tr>\n",
       "      <th>31</th>\n",
       "      <td>Uturn</td>\n",
       "    </tr>\n",
       "    <tr>\n",
       "      <th>32</th>\n",
       "      <td>Road Divider</td>\n",
       "    </tr>\n",
       "    <tr>\n",
       "      <th>33</th>\n",
       "      <td>Traffic signals</td>\n",
       "    </tr>\n",
       "    <tr>\n",
       "      <th>34</th>\n",
       "      <td>Danger Ahead</td>\n",
       "    </tr>\n",
       "    <tr>\n",
       "      <th>35</th>\n",
       "      <td>Zebra Crossing</td>\n",
       "    </tr>\n",
       "    <tr>\n",
       "      <th>36</th>\n",
       "      <td>Bicycles crossing</td>\n",
       "    </tr>\n",
       "    <tr>\n",
       "      <th>37</th>\n",
       "      <td>Children crossing</td>\n",
       "    </tr>\n",
       "    <tr>\n",
       "      <th>38</th>\n",
       "      <td>Dangerous curve to the left</td>\n",
       "    </tr>\n",
       "    <tr>\n",
       "      <th>39</th>\n",
       "      <td>Dangerous curve to the right</td>\n",
       "    </tr>\n",
       "    <tr>\n",
       "      <th>40</th>\n",
       "      <td>Unknown1</td>\n",
       "    </tr>\n",
       "    <tr>\n",
       "      <th>41</th>\n",
       "      <td>Unknown2</td>\n",
       "    </tr>\n",
       "    <tr>\n",
       "      <th>42</th>\n",
       "      <td>Unknown3</td>\n",
       "    </tr>\n",
       "    <tr>\n",
       "      <th>43</th>\n",
       "      <td>Go right or straight</td>\n",
       "    </tr>\n",
       "    <tr>\n",
       "      <th>44</th>\n",
       "      <td>Go left or straight</td>\n",
       "    </tr>\n",
       "    <tr>\n",
       "      <th>45</th>\n",
       "      <td>Unknown4</td>\n",
       "    </tr>\n",
       "    <tr>\n",
       "      <th>46</th>\n",
       "      <td>ZigZag Curve</td>\n",
       "    </tr>\n",
       "    <tr>\n",
       "      <th>47</th>\n",
       "      <td>Train Crossing</td>\n",
       "    </tr>\n",
       "    <tr>\n",
       "      <th>48</th>\n",
       "      <td>Under Construction</td>\n",
       "    </tr>\n",
       "    <tr>\n",
       "      <th>49</th>\n",
       "      <td>Unknown5</td>\n",
       "    </tr>\n",
       "    <tr>\n",
       "      <th>50</th>\n",
       "      <td>Fences</td>\n",
       "    </tr>\n",
       "    <tr>\n",
       "      <th>51</th>\n",
       "      <td>Heavy Vehicle Accidents</td>\n",
       "    </tr>\n",
       "    <tr>\n",
       "      <th>52</th>\n",
       "      <td>Unknown6</td>\n",
       "    </tr>\n",
       "    <tr>\n",
       "      <th>53</th>\n",
       "      <td>Give Way</td>\n",
       "    </tr>\n",
       "    <tr>\n",
       "      <th>54</th>\n",
       "      <td>No stopping</td>\n",
       "    </tr>\n",
       "    <tr>\n",
       "      <th>55</th>\n",
       "      <td>No entry</td>\n",
       "    </tr>\n",
       "    <tr>\n",
       "      <th>56</th>\n",
       "      <td>Unknown7</td>\n",
       "    </tr>\n",
       "    <tr>\n",
       "      <th>57</th>\n",
       "      <td>Unknown8</td>\n",
       "    </tr>\n",
       "  </tbody>\n",
       "</table>\n",
       "</div>"
      ],
      "text/plain": [
       "                                 Name\n",
       "ClassId                              \n",
       "0                 Speed limit (5km/h)\n",
       "1                Speed limit (15km/h)\n",
       "2                Speed limit (30km/h)\n",
       "3                Speed limit (40km/h)\n",
       "4                Speed limit (50km/h)\n",
       "5                Speed limit (60km/h)\n",
       "6                Speed limit (70km/h)\n",
       "7                speed limit (80km/h)\n",
       "8            Dont Go straight or left\n",
       "9           Dont Go straight or Right\n",
       "10                   Dont Go straight\n",
       "11                       Dont Go Left\n",
       "12              Dont Go Left or Right\n",
       "13                      Dont Go Right\n",
       "14            Dont overtake from Left\n",
       "15                           No Uturn\n",
       "16                             No Car\n",
       "17                            No horn\n",
       "18               Speed limit (40km/h)\n",
       "19               Speed limit (50km/h)\n",
       "20               Go straight or right\n",
       "21                        Go straight\n",
       "22                            Go Left\n",
       "23                   Go Left or right\n",
       "24                           Go Right\n",
       "25                          keep Left\n",
       "26                         keep Right\n",
       "27               Roundabout mandatory\n",
       "28                 watch out for cars\n",
       "29                               Horn\n",
       "30                  Bicycles crossing\n",
       "31                              Uturn\n",
       "32                       Road Divider\n",
       "33                    Traffic signals\n",
       "34                       Danger Ahead\n",
       "35                     Zebra Crossing\n",
       "36                  Bicycles crossing\n",
       "37                  Children crossing\n",
       "38        Dangerous curve to the left\n",
       "39       Dangerous curve to the right\n",
       "40                           Unknown1\n",
       "41                           Unknown2\n",
       "42                           Unknown3\n",
       "43               Go right or straight\n",
       "44                Go left or straight\n",
       "45                           Unknown4\n",
       "46                       ZigZag Curve\n",
       "47                     Train Crossing\n",
       "48                 Under Construction\n",
       "49                           Unknown5\n",
       "50                             Fences\n",
       "51            Heavy Vehicle Accidents\n",
       "52                           Unknown6\n",
       "53                           Give Way\n",
       "54                        No stopping\n",
       "55                           No entry\n",
       "56                           Unknown7\n",
       "57                           Unknown8"
      ]
     },
     "execution_count": 26,
     "metadata": {},
     "output_type": "execute_result"
    }
   ],
   "source": [
    "df"
   ]
  },
  {
   "cell_type": "code",
   "execution_count": 12,
   "metadata": {},
   "outputs": [
    {
     "name": "stderr",
     "output_type": "stream",
     "text": [
      "\r",
      "  0%|                                                                                           | 0/58 [00:00<?, ?it/s]"
     ]
    },
    {
     "name": "stdout",
     "output_type": "stream",
     "text": [
      "Folder 0 images reading...."
     ]
    },
    {
     "name": "stderr",
     "output_type": "stream",
     "text": [
      "\r",
      "  2%|█▍                                                                                 | 1/58 [00:00<00:56,  1.01it/s]"
     ]
    },
    {
     "name": "stdout",
     "output_type": "stream",
     "text": [
      "Folder 01 images reading...."
     ]
    },
    {
     "name": "stderr",
     "output_type": "stream",
     "text": [
      "\r",
      "  3%|██▊                                                                                | 2/58 [00:01<00:33,  1.69it/s]"
     ]
    },
    {
     "name": "stdout",
     "output_type": "stream",
     "text": [
      "Folder 02 images reading...."
     ]
    },
    {
     "name": "stderr",
     "output_type": "stream",
     "text": [
      "\r",
      "  5%|████▎                                                                              | 3/58 [00:02<00:35,  1.54it/s]"
     ]
    },
    {
     "name": "stdout",
     "output_type": "stream",
     "text": [
      "Folder 03 images reading...."
     ]
    },
    {
     "name": "stderr",
     "output_type": "stream",
     "text": [
      "\r",
      "  7%|█████▋                                                                             | 4/58 [00:04<01:11,  1.32s/it]"
     ]
    },
    {
     "name": "stdout",
     "output_type": "stream",
     "text": [
      "Folder 04 images reading...."
     ]
    },
    {
     "name": "stderr",
     "output_type": "stream",
     "text": [
      "\r",
      "  9%|███████▏                                                                           | 5/58 [00:05<01:01,  1.15s/it]"
     ]
    },
    {
     "name": "stdout",
     "output_type": "stream",
     "text": [
      "Folder 05 images reading...."
     ]
    },
    {
     "name": "stderr",
     "output_type": "stream",
     "text": [
      "\r",
      " 10%|████████▌                                                                          | 6/58 [00:06<01:09,  1.35s/it]"
     ]
    },
    {
     "name": "stdout",
     "output_type": "stream",
     "text": [
      "Folder 06 images reading...."
     ]
    },
    {
     "name": "stderr",
     "output_type": "stream",
     "text": [
      "\r",
      " 12%|██████████                                                                         | 7/58 [00:07<00:57,  1.13s/it]"
     ]
    },
    {
     "name": "stdout",
     "output_type": "stream",
     "text": [
      "Folder 07 images reading...."
     ]
    },
    {
     "name": "stderr",
     "output_type": "stream",
     "text": [
      "\r",
      " 14%|███████████▍                                                                       | 8/58 [00:08<01:00,  1.20s/it]"
     ]
    },
    {
     "name": "stdout",
     "output_type": "stream",
     "text": [
      "Folder 08 images reading....Folder 09 images reading....Folder 10 images reading...."
     ]
    },
    {
     "name": "stderr",
     "output_type": "stream",
     "text": [
      "\r",
      " 19%|███████████████▌                                                                  | 11/58 [00:09<00:29,  1.59it/s]"
     ]
    },
    {
     "name": "stdout",
     "output_type": "stream",
     "text": [
      "Folder 11 images reading...."
     ]
    },
    {
     "name": "stderr",
     "output_type": "stream",
     "text": [
      "\r",
      " 21%|████████████████▉                                                                 | 12/58 [00:10<00:33,  1.36it/s]"
     ]
    },
    {
     "name": "stdout",
     "output_type": "stream",
     "text": [
      "Folder 12 images reading...."
     ]
    },
    {
     "name": "stderr",
     "output_type": "stream",
     "text": [
      "\r",
      " 22%|██████████████████▍                                                               | 13/58 [00:11<00:36,  1.25it/s]"
     ]
    },
    {
     "name": "stdout",
     "output_type": "stream",
     "text": [
      "Folder 13 images reading...."
     ]
    },
    {
     "name": "stderr",
     "output_type": "stream",
     "text": [
      "\r",
      " 24%|███████████████████▊                                                              | 14/58 [00:12<00:30,  1.45it/s]"
     ]
    },
    {
     "name": "stdout",
     "output_type": "stream",
     "text": [
      "Folder 14 images reading...."
     ]
    },
    {
     "name": "stderr",
     "output_type": "stream",
     "text": [
      " 28%|██████████████████████▌                                                           | 16/58 [00:13<00:27,  1.52it/s]"
     ]
    },
    {
     "name": "stdout",
     "output_type": "stream",
     "text": [
      "Folder 15 images reading....Folder 16 images reading...."
     ]
    },
    {
     "name": "stderr",
     "output_type": "stream",
     "text": [
      "\r",
      " 29%|████████████████████████                                                          | 17/58 [00:14<00:34,  1.18it/s]"
     ]
    },
    {
     "name": "stdout",
     "output_type": "stream",
     "text": [
      "Folder 17 images reading...."
     ]
    },
    {
     "name": "stderr",
     "output_type": "stream",
     "text": [
      " 34%|████████████████████████████▎                                                     | 20/58 [00:16<00:22,  1.68it/s]"
     ]
    },
    {
     "name": "stdout",
     "output_type": "stream",
     "text": [
      "Folder 18 images reading....Folder 19 images reading....Folder 20 images reading...."
     ]
    },
    {
     "name": "stderr",
     "output_type": "stream",
     "text": [
      " 38%|███████████████████████████████                                                   | 22/58 [00:16<00:14,  2.45it/s]"
     ]
    },
    {
     "name": "stdout",
     "output_type": "stream",
     "text": [
      "Folder 21 images reading....Folder 22 images reading...."
     ]
    },
    {
     "name": "stderr",
     "output_type": "stream",
     "text": [
      " 41%|█████████████████████████████████▉                                                | 24/58 [00:17<00:10,  3.23it/s]"
     ]
    },
    {
     "name": "stdout",
     "output_type": "stream",
     "text": [
      "Folder 23 images reading....Folder 24 images reading...."
     ]
    },
    {
     "name": "stderr",
     "output_type": "stream",
     "text": [
      "\r",
      " 43%|███████████████████████████████████▎                                              | 25/58 [00:18<00:17,  1.87it/s]"
     ]
    },
    {
     "name": "stdout",
     "output_type": "stream",
     "text": [
      "Folder 25 images reading....Folder 26 images reading...."
     ]
    },
    {
     "name": "stderr",
     "output_type": "stream",
     "text": [
      "\r",
      " 47%|██████████████████████████████████████▏                                           | 27/58 [00:19<00:17,  1.80it/s]"
     ]
    },
    {
     "name": "stdout",
     "output_type": "stream",
     "text": [
      "Folder 27 images reading...."
     ]
    },
    {
     "name": "stderr",
     "output_type": "stream",
     "text": [
      "\r",
      " 48%|███████████████████████████████████████▌                                          | 28/58 [00:19<00:14,  2.09it/s]"
     ]
    },
    {
     "name": "stdout",
     "output_type": "stream",
     "text": [
      "Folder 28 images reading...."
     ]
    },
    {
     "name": "stderr",
     "output_type": "stream",
     "text": [
      "\r",
      " 50%|█████████████████████████████████████████                                         | 29/58 [00:23<00:41,  1.44s/it]"
     ]
    },
    {
     "name": "stdout",
     "output_type": "stream",
     "text": [
      "Folder 29 images reading...."
     ]
    },
    {
     "name": "stderr",
     "output_type": "stream",
     "text": [
      "\r",
      " 52%|██████████████████████████████████████████▍                                       | 30/58 [00:24<00:32,  1.16s/it]"
     ]
    },
    {
     "name": "stdout",
     "output_type": "stream",
     "text": [
      "Folder 30 images reading...."
     ]
    },
    {
     "name": "stderr",
     "output_type": "stream",
     "text": [
      "\r",
      " 53%|███████████████████████████████████████████▊                                      | 31/58 [00:25<00:33,  1.24s/it]"
     ]
    },
    {
     "name": "stdout",
     "output_type": "stream",
     "text": [
      "Folder 31 images reading...."
     ]
    },
    {
     "name": "stderr",
     "output_type": "stream",
     "text": [
      " 57%|██████████████████████████████████████████████▋                                   | 33/58 [00:26<00:18,  1.33it/s]"
     ]
    },
    {
     "name": "stdout",
     "output_type": "stream",
     "text": [
      "Folder 32 images reading....Folder 33 images reading....Folder 34 images reading...."
     ]
    },
    {
     "name": "stderr",
     "output_type": "stream",
     "text": [
      "\r",
      " 60%|█████████████████████████████████████████████████▍                                | 35/58 [00:26<00:11,  2.06it/s]"
     ]
    },
    {
     "name": "stdout",
     "output_type": "stream",
     "text": [
      "Folder 35 images reading...."
     ]
    },
    {
     "name": "stderr",
     "output_type": "stream",
     "text": [
      "\r",
      " 62%|██████████████████████████████████████████████████▉                               | 36/58 [00:28<00:16,  1.37it/s]"
     ]
    },
    {
     "name": "stdout",
     "output_type": "stream",
     "text": [
      "Folder 36 images reading...."
     ]
    },
    {
     "name": "stderr",
     "output_type": "stream",
     "text": [
      "\r",
      " 64%|████████████████████████████████████████████████████▎                             | 37/58 [00:28<00:13,  1.58it/s]"
     ]
    },
    {
     "name": "stdout",
     "output_type": "stream",
     "text": [
      "Folder 37 images reading...."
     ]
    },
    {
     "name": "stderr",
     "output_type": "stream",
     "text": [
      "\r",
      " 66%|█████████████████████████████████████████████████████▋                            | 38/58 [00:29<00:12,  1.63it/s]"
     ]
    },
    {
     "name": "stdout",
     "output_type": "stream",
     "text": [
      "Folder 38 images reading...."
     ]
    },
    {
     "name": "stderr",
     "output_type": "stream",
     "text": [
      "\r",
      " 67%|███████████████████████████████████████████████████████▏                          | 39/58 [00:29<00:09,  1.92it/s]"
     ]
    },
    {
     "name": "stdout",
     "output_type": "stream",
     "text": [
      "Folder 39 images reading...."
     ]
    },
    {
     "name": "stderr",
     "output_type": "stream",
     "text": [
      "\r",
      " 69%|████████████████████████████████████████████████████████▌                         | 40/58 [00:29<00:08,  2.17it/s]"
     ]
    },
    {
     "name": "stdout",
     "output_type": "stream",
     "text": [
      "Folder 40 images reading...."
     ]
    },
    {
     "name": "stderr",
     "output_type": "stream",
     "text": [
      " 72%|███████████████████████████████████████████████████████████▍                      | 42/58 [00:30<00:05,  2.96it/s]"
     ]
    },
    {
     "name": "stdout",
     "output_type": "stream",
     "text": [
      "Folder 41 images reading....Folder 42 images reading...."
     ]
    },
    {
     "name": "stderr",
     "output_type": "stream",
     "text": [
      "\r",
      " 74%|████████████████████████████████████████████████████████████▊                     | 43/58 [00:30<00:04,  3.09it/s]"
     ]
    },
    {
     "name": "stdout",
     "output_type": "stream",
     "text": [
      "Folder 43 images reading...."
     ]
    },
    {
     "name": "stderr",
     "output_type": "stream",
     "text": [
      "\r",
      " 76%|██████████████████████████████████████████████████████████████▏                   | 44/58 [00:31<00:06,  2.18it/s]"
     ]
    },
    {
     "name": "stdout",
     "output_type": "stream",
     "text": [
      "Folder 44 images reading...."
     ]
    },
    {
     "name": "stderr",
     "output_type": "stream",
     "text": [
      "\r",
      " 78%|███████████████████████████████████████████████████████████████▌                  | 45/58 [00:31<00:05,  2.49it/s]"
     ]
    },
    {
     "name": "stdout",
     "output_type": "stream",
     "text": [
      "Folder 45 images reading...."
     ]
    },
    {
     "name": "stderr",
     "output_type": "stream",
     "text": [
      " 81%|██████████████████████████████████████████████████████████████████▍               | 47/58 [00:31<00:03,  3.49it/s]"
     ]
    },
    {
     "name": "stdout",
     "output_type": "stream",
     "text": [
      "Folder 46 images reading....Folder 47 images reading...."
     ]
    },
    {
     "name": "stderr",
     "output_type": "stream",
     "text": [
      "\r",
      " 83%|███████████████████████████████████████████████████████████████████▊              | 48/58 [00:31<00:02,  4.32it/s]"
     ]
    },
    {
     "name": "stdout",
     "output_type": "stream",
     "text": [
      "Folder 48 images reading....Folder 49 images reading...."
     ]
    },
    {
     "name": "stderr",
     "output_type": "stream",
     "text": [
      "\r",
      " 86%|██████████████████████████████████████████████████████████████████████▋           | 50/58 [00:32<00:01,  4.40it/s]"
     ]
    },
    {
     "name": "stdout",
     "output_type": "stream",
     "text": [
      "Folder 50 images reading...."
     ]
    },
    {
     "name": "stderr",
     "output_type": "stream",
     "text": [
      "\r",
      " 88%|████████████████████████████████████████████████████████████████████████          | 51/58 [00:33<00:02,  2.89it/s]"
     ]
    },
    {
     "name": "stdout",
     "output_type": "stream",
     "text": [
      "Folder 51 images reading....Folder 52 images reading...."
     ]
    },
    {
     "name": "stderr",
     "output_type": "stream",
     "text": [
      "\r",
      " 91%|██████████████████████████████████████████████████████████████████████████▉       | 53/58 [00:33<00:01,  3.52it/s]"
     ]
    },
    {
     "name": "stdout",
     "output_type": "stream",
     "text": [
      "Folder 53 images reading....Folder 54 images reading...."
     ]
    },
    {
     "name": "stderr",
     "output_type": "stream",
     "text": [
      "\r",
      " 95%|█████████████████████████████████████████████████████████████████████████████▊    | 55/58 [00:36<00:01,  1.52it/s]"
     ]
    },
    {
     "name": "stdout",
     "output_type": "stream",
     "text": [
      "Folder 55 images reading...."
     ]
    },
    {
     "name": "stderr",
     "output_type": "stream",
     "text": [
      "\r",
      " 97%|███████████████████████████████████████████████████████████████████████████████▏  | 56/58 [00:37<00:01,  1.23it/s]"
     ]
    },
    {
     "name": "stdout",
     "output_type": "stream",
     "text": [
      "Folder 56 images reading...."
     ]
    },
    {
     "name": "stderr",
     "output_type": "stream",
     "text": [
      "100%|██████████████████████████████████████████████████████████████████████████████████| 58/58 [00:38<00:00,  1.51it/s]"
     ]
    },
    {
     "name": "stdout",
     "output_type": "stream",
     "text": [
      "Folder 57 images reading...."
     ]
    },
    {
     "name": "stderr",
     "output_type": "stream",
     "text": [
      "\n"
     ]
    }
   ],
   "source": [
    "image = []\n",
    "label = []\n",
    "\n",
    "count = 0\n",
    "for folder in tqdm.tqdm(os.listdir(TRAINING_PATH)):\n",
    "    print(f\"Folder {folder} images reading....\", end = '')\n",
    "    for i in eval(f\"folder_{folder}\"):\n",
    "        img = plt.imread(i)\n",
    "        image.append(img)\n",
    "        label.append(count)\n",
    "    count += 1"
   ]
  },
  {
   "cell_type": "markdown",
   "metadata": {},
   "source": [
    "## Preprocessing images \n",
    "\n",
    "Now, we will use preprocess our images. We need preprocessing for two reasons:\n",
    "- To normalize intensity across all images i.e if an image is overexposed or underexposed, we will make it well-exposed using [histogram equilization](https://en.wikipedia.org/wiki/Histogram_equalization). As you can see in above pictures, we have many such images.\n",
    "- To resize all images to same size."
   ]
  },
  {
   "cell_type": "code",
   "execution_count": 13,
   "metadata": {},
   "outputs": [],
   "source": [
    "def preprocess_images(img):\n",
    "    # return image in HSV format\n",
    "    hsv = color.rgb2hsv(img)\n",
    "    # return image after histogram equilization\n",
    "    hsv[:, :, 2] = exposure.equalize_hist(hsv[:, :, 2])\n",
    "    img = color.hsv2rgb(hsv)\n",
    "    \n",
    "    # resizing image to fixed dimension\n",
    "    min_side = min(img.shape[:-1])\n",
    "    center =img.shape[0] // 2, img.shape[1] // 2\n",
    "    img = img[center[0] - min_side // 2: center[0] + min_side // 2,\n",
    "              center[1] - min_side // 2: center[0] + min_side // 2,\n",
    "              :]\n",
    "    img = transform.resize(img,(IMG_SIZE, IMG_SIZE), mode = 'constant')\n",
    "\n",
    "    return img"
   ]
  },
  {
   "cell_type": "code",
   "execution_count": 14,
   "metadata": {},
   "outputs": [
    {
     "name": "stderr",
     "output_type": "stream",
     "text": [
      "100%|██████████████████████████████████████████████████████████████████████████████| 4170/4170 [00:56<00:00, 74.44it/s]\n"
     ]
    }
   ],
   "source": [
    "X = []\n",
    "\n",
    "for i in tqdm.tqdm(image):\n",
    "    X.append(preprocess_images(i))"
   ]
  },
  {
   "cell_type": "markdown",
   "metadata": {},
   "source": [
    "Below are the images after preprocessing step"
   ]
  },
  {
   "cell_type": "code",
   "execution_count": 15,
   "metadata": {},
   "outputs": [],
   "source": [
    "X,y = shuffle(X,label)"
   ]
  },
  {
   "cell_type": "code",
   "execution_count": 16,
   "metadata": {},
   "outputs": [],
   "source": [
    "X = np.array(X)\n",
    "y = np.array(y)"
   ]
  },
  {
   "cell_type": "code",
   "execution_count": 17,
   "metadata": {},
   "outputs": [
    {
     "data": {
      "text/plain": [
       "array([48,  0, 28, ..., 28, 28, 54])"
      ]
     },
     "execution_count": 17,
     "metadata": {},
     "output_type": "execute_result"
    }
   ],
   "source": [
    "y"
   ]
  },
  {
   "cell_type": "code",
   "execution_count": 18,
   "metadata": {},
   "outputs": [
    {
     "data": {
      "text/plain": [
       "array([[[[0.7624844 , 0.79940873, 0.8099965 ],\n",
       "         [0.8397407 , 0.87954915, 0.89185995],\n",
       "         [0.8427063 , 0.87954867, 0.8928184 ],\n",
       "         ...,\n",
       "         [0.84591335, 0.881625  , 0.8954632 ],\n",
       "         [0.84034157, 0.8766312 , 0.8885709 ],\n",
       "         [0.7529265 , 0.78555346, 0.79465175]],\n",
       "\n",
       "        [[0.82918924, 0.87262803, 0.8828515 ],\n",
       "         [0.9125871 , 0.95537996, 0.9686374 ],\n",
       "         [0.91729397, 0.9617475 , 0.97369283],\n",
       "         ...,\n",
       "         [0.9227843 , 0.96446586, 0.9784357 ],\n",
       "         [0.9159693 , 0.95598483, 0.9680895 ],\n",
       "         [0.8264519 , 0.8632517 , 0.8738861 ]],\n",
       "\n",
       "        [[0.77602226, 0.82470566, 0.8667775 ],\n",
       "         [0.86358184, 0.9108575 , 0.9542516 ],\n",
       "         [0.863513  , 0.9174268 , 0.954871  ],\n",
       "         ...,\n",
       "         [0.8179346 , 0.86609966, 0.9321049 ],\n",
       "         [0.82183015, 0.86308616, 0.93016934],\n",
       "         [0.7456724 , 0.7871791 , 0.84390897]],\n",
       "\n",
       "        ...,\n",
       "\n",
       "        [[0.32146898, 0.297967  , 0.49304765],\n",
       "         [0.2976576 , 0.27803886, 0.4526322 ],\n",
       "         [0.3328889 , 0.30868816, 0.51631165],\n",
       "         ...,\n",
       "         [0.34743628, 0.30863282, 0.525978  ],\n",
       "         [0.4033315 , 0.35329324, 0.6153323 ],\n",
       "         [0.34687936, 0.30295905, 0.5191141 ]],\n",
       "\n",
       "        [[0.6375874 , 0.6411935 , 0.70777106],\n",
       "         [0.51722735, 0.49693716, 0.654993  ],\n",
       "         [0.4054449 , 0.3810675 , 0.60441315],\n",
       "         ...,\n",
       "         [0.6312171 , 0.60741824, 0.7407154 ],\n",
       "         [0.6792643 , 0.6547601 , 0.7926758 ],\n",
       "         [0.63541853, 0.6225168 , 0.7144955 ]],\n",
       "\n",
       "        [[0.7097022 , 0.73213685, 0.7529865 ],\n",
       "         [0.71395224, 0.72479665, 0.7826223 ],\n",
       "         [0.6201048 , 0.6229472 , 0.7102124 ],\n",
       "         ...,\n",
       "         [0.7844929 , 0.8118682 , 0.83137065],\n",
       "         [0.77916193, 0.8072913 , 0.82817864],\n",
       "         [0.7135893 , 0.7366221 , 0.7568018 ]]],\n",
       "\n",
       "\n",
       "       [[[0.08048385, 0.05692789, 0.04288581],\n",
       "         [0.09518044, 0.06881139, 0.05140635],\n",
       "         [0.12192322, 0.08632609, 0.06147988],\n",
       "         ...,\n",
       "         [0.16734844, 0.11277771, 0.08257589],\n",
       "         [0.16481222, 0.1131433 , 0.08232167],\n",
       "         [0.19104645, 0.13241978, 0.0955684 ]],\n",
       "\n",
       "        [[0.15173894, 0.10418586, 0.07638896],\n",
       "         [0.09219062, 0.06392285, 0.04836194],\n",
       "         [0.12246297, 0.08531516, 0.06167643],\n",
       "         ...,\n",
       "         [0.16289216, 0.11148939, 0.08179775],\n",
       "         [0.14522184, 0.10203992, 0.07388312],\n",
       "         [0.18596897, 0.12759043, 0.09007087]],\n",
       "\n",
       "        [[0.1747943 , 0.12187157, 0.08821872],\n",
       "         [0.16582632, 0.11594417, 0.08379829],\n",
       "         [0.1700273 , 0.11522174, 0.08287488],\n",
       "         ...,\n",
       "         [0.21110314, 0.14183728, 0.10347686],\n",
       "         [0.21459876, 0.14903028, 0.10702929],\n",
       "         [0.25926703, 0.17641723, 0.12536798]],\n",
       "\n",
       "        ...,\n",
       "\n",
       "        [[0.9573226 , 0.25629976, 0.26012176],\n",
       "         [0.94187474, 0.3561639 , 0.3564646 ],\n",
       "         [0.9249491 , 0.46132505, 0.4537309 ],\n",
       "         ...,\n",
       "         [0.01361857, 0.00847311, 0.00861882],\n",
       "         [0.01174102, 0.0077793 , 0.00801156],\n",
       "         [0.01187794, 0.00752632, 0.00775747]],\n",
       "\n",
       "        [[0.922862  , 0.6742085 , 0.6365904 ],\n",
       "         [0.90236133, 0.834287  , 0.7894618 ],\n",
       "         [0.8759667 , 0.8627936 , 0.8270316 ],\n",
       "         ...,\n",
       "         [0.00221729, 0.0021609 , 0.00223959],\n",
       "         [0.00178798, 0.00179224, 0.00180249],\n",
       "         [0.00250139, 0.00250733, 0.00254943]],\n",
       "\n",
       "        [[0.87189704, 0.8696555 , 0.83621395],\n",
       "         [0.8671224 , 0.87166685, 0.8497108 ],\n",
       "         [0.8655018 , 0.87151504, 0.8504495 ],\n",
       "         ...,\n",
       "         [0.04578543, 0.03872952, 0.04616422],\n",
       "         [0.01086979, 0.01011445, 0.0118826 ],\n",
       "         [0.02527261, 0.02477824, 0.02774628]]],\n",
       "\n",
       "\n",
       "       [[[0.5605338 , 0.571968  , 0.5751349 ],\n",
       "         [0.6367352 , 0.6498297 , 0.6541446 ],\n",
       "         [0.6257011 , 0.6366941 , 0.64100057],\n",
       "         ...,\n",
       "         [0.48310748, 0.48974362, 0.49466246],\n",
       "         [0.47704795, 0.48545665, 0.49008015],\n",
       "         [0.43019155, 0.43911365, 0.4444972 ]],\n",
       "\n",
       "        [[0.64958143, 0.66316193, 0.6668201 ],\n",
       "         [0.7080729 , 0.7226067 , 0.7268663 ],\n",
       "         [0.68639445, 0.69968957, 0.7044079 ],\n",
       "         ...,\n",
       "         [0.55103225, 0.5600951 , 0.5661114 ],\n",
       "         [0.53322023, 0.543511  , 0.5474806 ],\n",
       "         [0.4793233 , 0.48861814, 0.49349082]],\n",
       "\n",
       "        [[0.6838977 , 0.6966671 , 0.7011988 ],\n",
       "         [0.72774637, 0.74233997, 0.74738157],\n",
       "         [0.5451992 , 0.56024903, 0.57016206],\n",
       "         ...,\n",
       "         [0.5457051 , 0.5539209 , 0.55884063],\n",
       "         [0.54723567, 0.5574784 , 0.56263614],\n",
       "         [0.4869745 , 0.49604598, 0.50087565]],\n",
       "\n",
       "        ...,\n",
       "\n",
       "        [[0.76785094, 0.77689004, 0.77371275],\n",
       "         [0.85413784, 0.86432385, 0.86118805],\n",
       "         [0.8612969 , 0.8718083 , 0.86905175],\n",
       "         ...,\n",
       "         [0.32656145, 0.35981095, 0.4056285 ],\n",
       "         [0.2836729 , 0.31801412, 0.3633029 ],\n",
       "         [0.23871295, 0.26853374, 0.3101112 ]],\n",
       "\n",
       "        [[0.38191527, 0.40191367, 0.42167386],\n",
       "         [0.42567435, 0.45168102, 0.47979894],\n",
       "         [0.4204525 , 0.4484671 , 0.48006067],\n",
       "         ...,\n",
       "         [0.14382352, 0.1775585 , 0.22580872],\n",
       "         [0.10848452, 0.13795558, 0.18048882],\n",
       "         [0.16652626, 0.18510917, 0.21190074]],\n",
       "\n",
       "        [[0.10173855, 0.12183781, 0.14719805],\n",
       "         [0.13536727, 0.16476226, 0.20154649],\n",
       "         [0.12026361, 0.14922994, 0.18588209],\n",
       "         ...,\n",
       "         [0.2034585 , 0.2180489 , 0.23473904],\n",
       "         [0.15753065, 0.18121935, 0.21326293],\n",
       "         [0.14831279, 0.17116725, 0.20356508]]],\n",
       "\n",
       "\n",
       "       ...,\n",
       "\n",
       "\n",
       "       [[[0.79015017, 0.7886834 , 0.78304213],\n",
       "         [0.82122064, 0.82048017, 0.8149063 ],\n",
       "         [0.79481614, 0.7924018 , 0.7893017 ],\n",
       "         ...,\n",
       "         [0.79884416, 0.8023264 , 0.8023554 ],\n",
       "         [0.47315356, 0.47792232, 0.4841612 ],\n",
       "         [0.4732709 , 0.47882867, 0.48715648]],\n",
       "\n",
       "        [[0.8526128 , 0.8504602 , 0.84183776],\n",
       "         [0.9194876 , 0.91551495, 0.9041375 ],\n",
       "         [0.91651344, 0.91115123, 0.9003567 ],\n",
       "         ...,\n",
       "         [0.8541972 , 0.8546419 , 0.8472271 ],\n",
       "         [0.50900227, 0.514392  , 0.5209767 ],\n",
       "         [0.51456994, 0.52011156, 0.52842504]],\n",
       "\n",
       "        [[0.75125134, 0.7583869 , 0.7397628 ],\n",
       "         [0.82908666, 0.8396923 , 0.80845356],\n",
       "         [0.8408818 , 0.84477746, 0.82371575],\n",
       "         ...,\n",
       "         [0.82634   , 0.82522094, 0.8203266 ],\n",
       "         [0.5120622 , 0.5189676 , 0.5255351 ],\n",
       "         [0.52386487, 0.53086495, 0.54009163]],\n",
       "\n",
       "        ...,\n",
       "\n",
       "        [[0.05688218, 0.06260066, 0.05687362],\n",
       "         [0.05825109, 0.06397943, 0.05780962],\n",
       "         [0.03655563, 0.03985417, 0.03638723],\n",
       "         ...,\n",
       "         [0.40557498, 0.40316227, 0.39384958],\n",
       "         [0.53338385, 0.53157926, 0.52441347],\n",
       "         [0.5081067 , 0.5070836 , 0.5027895 ]],\n",
       "\n",
       "        [[0.01144916, 0.01236518, 0.01159663],\n",
       "         [0.02199854, 0.02391591, 0.02222605],\n",
       "         [0.02998161, 0.03293806, 0.03034326],\n",
       "         ...,\n",
       "         [0.46447966, 0.46998766, 0.46367446],\n",
       "         [0.5925489 , 0.5971227 , 0.5987007 ],\n",
       "         [0.57097137, 0.5762683 , 0.5804613 ]],\n",
       "\n",
       "        [[0.02251476, 0.02432703, 0.02261254],\n",
       "         [0.03522507, 0.03833658, 0.03535015],\n",
       "         [0.04326196, 0.04751686, 0.04340232],\n",
       "         ...,\n",
       "         [0.45723206, 0.46273693, 0.45460674],\n",
       "         [0.55682003, 0.5604529 , 0.5625452 ],\n",
       "         [0.5273962 , 0.5339808 , 0.53789043]]],\n",
       "\n",
       "\n",
       "       [[[0.76492476, 0.76169276, 0.7451658 ],\n",
       "         [0.8465858 , 0.84320146, 0.82587147],\n",
       "         [0.85607207, 0.8516148 , 0.8377496 ],\n",
       "         ...,\n",
       "         [0.86491925, 0.86207545, 0.8508349 ],\n",
       "         [0.55274147, 0.5572407 , 0.558352  ],\n",
       "         [0.42752427, 0.4320551 , 0.43818542]],\n",
       "\n",
       "        [[0.62595683, 0.6417725 , 0.60862595],\n",
       "         [0.70785785, 0.7220607 , 0.6918797 ],\n",
       "         [0.73516756, 0.7394774 , 0.7291224 ],\n",
       "         ...,\n",
       "         [0.9315538 , 0.9289202 , 0.9156725 ],\n",
       "         [0.6044988 , 0.6092446 , 0.61087614],\n",
       "         [0.4737843 , 0.48014843, 0.48628297]],\n",
       "\n",
       "        [[0.3757106 , 0.40061328, 0.3681533 ],\n",
       "         [0.49157825, 0.5190263 , 0.4813639 ],\n",
       "         [0.535677  , 0.5507125 , 0.5342362 ],\n",
       "         ...,\n",
       "         [0.94465566, 0.9422895 , 0.9285459 ],\n",
       "         [0.5991624 , 0.6041091 , 0.6063646 ],\n",
       "         [0.48659918, 0.4924087 , 0.49879628]],\n",
       "\n",
       "        ...,\n",
       "\n",
       "        [[0.01732128, 0.01881371, 0.01738954],\n",
       "         [0.01761969, 0.01922473, 0.01779285],\n",
       "         [0.03441449, 0.03783197, 0.03449234],\n",
       "         ...,\n",
       "         [0.48165146, 0.4811443 , 0.47086865],\n",
       "         [0.5487883 , 0.54730284, 0.5407189 ],\n",
       "         [0.48783994, 0.4897423 , 0.4865091 ]],\n",
       "\n",
       "        [[0.0354533 , 0.03875321, 0.03562601],\n",
       "         [0.03441575, 0.0374975 , 0.03451816],\n",
       "         [0.03343279, 0.03666843, 0.03375018],\n",
       "         ...,\n",
       "         [0.5211861 , 0.52115864, 0.515701  ],\n",
       "         [0.5879304 , 0.5905934 , 0.5887706 ],\n",
       "         [0.52446645, 0.5284899 , 0.52904016]],\n",
       "\n",
       "        [[0.02426058, 0.02661057, 0.02437669],\n",
       "         [0.04113581, 0.04527616, 0.04131809],\n",
       "         [0.06288889, 0.06998933, 0.06234263],\n",
       "         ...,\n",
       "         [0.4885544 , 0.4922623 , 0.48998353],\n",
       "         [0.55384266, 0.5585771 , 0.5593425 ],\n",
       "         [0.50185674, 0.5068501 , 0.5097961 ]]],\n",
       "\n",
       "\n",
       "       [[[0.07740478, 0.11084121, 0.0783772 ],\n",
       "         [0.08152479, 0.11372745, 0.08208921],\n",
       "         [0.07538877, 0.10088561, 0.06748298],\n",
       "         ...,\n",
       "         [0.65004206, 0.74929094, 0.8484804 ],\n",
       "         [0.6097511 , 0.6954944 , 0.80901897],\n",
       "         [0.4976075 , 0.5628403 , 0.6792294 ]],\n",
       "\n",
       "        [[0.0565264 , 0.08429114, 0.06363707],\n",
       "         [0.08568575, 0.11530931, 0.09247516],\n",
       "         [0.06908135, 0.09221509, 0.06521333],\n",
       "         ...,\n",
       "         [0.6254309 , 0.71945083, 0.7983737 ],\n",
       "         [0.64637727, 0.7310467 , 0.8264674 ],\n",
       "         [0.7568415 , 0.82687026, 0.9380238 ]],\n",
       "\n",
       "        [[0.11783453, 0.13691787, 0.12906487],\n",
       "         [0.4342253 , 0.46740663, 0.45553306],\n",
       "         [0.02436635, 0.03488115, 0.02709822],\n",
       "         ...,\n",
       "         [0.7690039 , 0.8694318 , 0.9389067 ],\n",
       "         [0.7189405 , 0.81080544, 0.8970529 ],\n",
       "         [0.7343832 , 0.8062149 , 0.9214514 ]],\n",
       "\n",
       "        ...,\n",
       "\n",
       "        [[0.48274985, 0.4970917 , 0.49422252],\n",
       "         [0.2947987 , 0.30706272, 0.30422398],\n",
       "         [0.14518444, 0.15601568, 0.14996393],\n",
       "         ...,\n",
       "         [0.36897686, 0.29076368, 0.27163553],\n",
       "         [0.649795  , 0.5957619 , 0.55464876],\n",
       "         [0.6591691 , 0.6276199 , 0.57267284]],\n",
       "\n",
       "        [[0.25721362, 0.26885942, 0.26624706],\n",
       "         [0.12464511, 0.1354603 , 0.13099676],\n",
       "         [0.1982696 , 0.21071711, 0.20184843],\n",
       "         ...,\n",
       "         [0.36374578, 0.28654468, 0.2683922 ],\n",
       "         [0.6880128 , 0.63321084, 0.58978117],\n",
       "         [0.7175877 , 0.6849095 , 0.6275165 ]],\n",
       "\n",
       "        [[0.07380436, 0.08480161, 0.07327462],\n",
       "         [0.21891986, 0.23032533, 0.21884911],\n",
       "         [0.11457863, 0.12316763, 0.1147899 ],\n",
       "         ...,\n",
       "         [0.33723038, 0.26672223, 0.24397391],\n",
       "         [0.6717832 , 0.6210444 , 0.57063997],\n",
       "         [0.7277537 , 0.7016075 , 0.642591  ]]]], dtype=float32)"
      ]
     },
     "execution_count": 18,
     "metadata": {},
     "output_type": "execute_result"
    }
   ],
   "source": [
    "X"
   ]
  },
  {
   "cell_type": "code",
   "execution_count": 19,
   "metadata": {},
   "outputs": [
    {
     "data": {
      "image/png": "[encoded data removed]",
      "text/plain": [
       "<Figure size 1000x1000 with 9 Axes>"
      ]
     },
     "metadata": {},
     "output_type": "display_data"
    }
   ],
   "source": [
    "plt.figure(figsize=(10,10))\n",
    "for i in range(0,9):\n",
    "    plt.subplot(330 + 1 + i)\n",
    "    plt.imshow(X[i], cmap=plt.get_cmap('gray'))\n",
    "    plt.title(df.loc[y[i]]['Name'])\n",
    "#Show the plot\n",
    "plt.show()"
   ]
  },
  {
   "cell_type": "code",
   "execution_count": 20,
   "metadata": {},
   "outputs": [],
   "source": [
    "X_train, X_test,y_train,y_test = train_test_split(X,y, test_size = 0.2)"
   ]
  },
  {
   "cell_type": "markdown",
   "metadata": {},
   "source": [
    "## Building Convolutional Neural Network Model\n",
    "We will now build our sequential CNN model with following specifications:\n",
    "- 6 convolutional layer followed by one hidden layer and one output layer(fully\n",
    "    connected or dense layer). \n",
    "- Dropout layers for regularization to avoid overfitting\n",
    "- Relu activation function for all convolutional layers\n",
    "- Softmax activation function for output layer as it is a multi-class classification problem\n",
    "- Flatten layer for reshaping the output of the convolutional layer"
   ]
  },
  {
   "cell_type": "code",
   "execution_count": 21,
   "metadata": {},
   "outputs": [],
   "source": [
    "from keras.models import Sequential\n",
    "from keras.layers.core import Dropout, Dense, Activation, Flatten\n",
    "from keras.layers.convolutional import Conv2D\n",
    "from keras.layers.pooling import MaxPooling2D\n",
    "from keras.optimizers import SGD"
   ]
  },
  {
   "cell_type": "code",
   "execution_count": 22,
   "metadata": {},
   "outputs": [],
   "source": [
    "def build_cnn_model():\n",
    "    model = Sequential() \n",
    "    model.add(Conv2D(32, (3, 3), padding ='same', input_shape = (IMG_SIZE, IMG_SIZE, 3), activation = 'relu'))\n",
    "    model.add(Conv2D(32, (3, 3), activation = 'relu'))\n",
    "    model.add(MaxPooling2D(pool_size = (2, 2)))\n",
    "    model.add(Dropout(0.2))\n",
    "    \n",
    "    model.add(Conv2D(64, (3, 3), padding ='same', activation = 'relu'))\n",
    "    model.add(Conv2D(64, (3, 3), activation = 'relu'))\n",
    "    model.add(MaxPooling2D(pool_size = (2, 2)))\n",
    "    model.add(Dropout(0.2))\n",
    "    \n",
    "    model.add(Conv2D(128, (3, 3), padding ='same', activation = 'relu'))\n",
    "    model.add(Conv2D(128, (3, 3), activation = 'relu'))\n",
    "    model.add(MaxPooling2D(pool_size = (2, 2)))\n",
    "    model.add(Dropout(0.2))\n",
    "    \n",
    "    model.add(Flatten())\n",
    "    model.add(Dense(512, activation = 'relu'))\n",
    "    model.add(Dropout(0.5))\n",
    "    model.add(Dense(NUM_CLASSES, activation = 'softmax'))\n",
    "    return model"
   ]
  },
  {
   "cell_type": "markdown",
   "metadata": {},
   "source": [
    "Lets us now compile our model using loss function as categorical_crossentropy"
   ]
  },
  {
   "cell_type": "code",
   "execution_count": 23,
   "metadata": {},
   "outputs": [],
   "source": [
    "model = build_cnn_model()\n",
    "model.compile(loss = 'sparse_categorical_crossentropy', optimizer = 'adam', metrics = ['accuracy'])"
   ]
  },
  {
   "cell_type": "markdown",
   "metadata": {},
   "source": [
    "We will be using callback feature of keras which are a set of functions like 'LearningRateScheduler', 'ModelCheckpoint' and 'EarlyStopping'.\n",
    "- Learning rate scheduler will decay learning rate. Slowing learning rate over epochs might help learn model better.\n",
    "- Model checkpoint will save the model with the best validation accuracy as we progress. This will help in case when our model    starts overfitting. \n",
    "- Early Stopping will stop the training if the accuracy gain between 'patience' epochs is not more than a specified value."
   ]
  },
  {
   "cell_type": "markdown",
   "metadata": {},
   "source": [
    "## Training the built model\n",
    "Training the model might take long time using CPU. Because of the parallel nature of the neural networks, they work extremely well with GPUs(NVIDIA GPUs with CUDA).\n",
    "I used NVIDIA Tesla K80 which significantly decreased the training time by many folds."
   ]
  },
  {
   "cell_type": "code",
   "execution_count": 24,
   "metadata": {},
   "outputs": [],
   "source": [
    "import h5py as h5py"
   ]
  },
  {
   "cell_type": "code",
   "execution_count": 27,
   "metadata": {},
   "outputs": [
    {
     "data": {
      "text/plain": [
       "(3336,)"
      ]
     },
     "execution_count": 27,
     "metadata": {},
     "output_type": "execute_result"
    }
   ],
   "source": [
    "y_train.shape"
   ]
  },
  {
   "cell_type": "code",
   "execution_count": 28,
   "metadata": {},
   "outputs": [
    {
     "name": "stdout",
     "output_type": "stream",
     "text": [
      "Epoch 1/30\n",
      "84/84 [==============================] - 18s 199ms/step - loss: 3.5708 - accuracy: 0.1151 - val_loss: 2.8779 - val_accuracy: 0.2275\n",
      "Epoch 2/30\n",
      "84/84 [==============================] - 15s 184ms/step - loss: 2.5965 - accuracy: 0.3036 - val_loss: 1.7570 - val_accuracy: 0.5719\n",
      "Epoch 3/30\n",
      "84/84 [==============================] - 15s 182ms/step - loss: 1.4415 - accuracy: 0.6046 - val_loss: 0.8763 - val_accuracy: 0.7455\n",
      "Epoch 4/30\n",
      "84/84 [==============================] - 20s 238ms/step - loss: 0.7680 - accuracy: 0.7852 - val_loss: 0.5155 - val_accuracy: 0.8563\n",
      "Epoch 5/30\n",
      "84/84 [==============================] - 17s 203ms/step - loss: 0.5084 - accuracy: 0.8478 - val_loss: 0.4924 - val_accuracy: 0.8638\n",
      "Epoch 6/30\n",
      "84/84 [==============================] - 18s 215ms/step - loss: 0.3345 - accuracy: 0.9074 - val_loss: 0.2242 - val_accuracy: 0.9431\n",
      "Epoch 7/30\n",
      "84/84 [==============================] - 15s 179ms/step - loss: 0.2569 - accuracy: 0.9288 - val_loss: 0.1589 - val_accuracy: 0.9596\n",
      "Epoch 8/30\n",
      "84/84 [==============================] - 15s 178ms/step - loss: 0.1792 - accuracy: 0.9479 - val_loss: 0.1923 - val_accuracy: 0.9416\n",
      "Epoch 9/30\n",
      "84/84 [==============================] - 16s 186ms/step - loss: 0.1593 - accuracy: 0.9543 - val_loss: 0.1053 - val_accuracy: 0.9775\n",
      "Epoch 10/30\n",
      "84/84 [==============================] - 17s 198ms/step - loss: 0.1131 - accuracy: 0.9689 - val_loss: 0.1049 - val_accuracy: 0.9731\n",
      "Epoch 11/30\n",
      "84/84 [==============================] - 20s 239ms/step - loss: 0.1215 - accuracy: 0.9670 - val_loss: 0.0909 - val_accuracy: 0.9820\n",
      "Epoch 12/30\n",
      "84/84 [==============================] - 20s 243ms/step - loss: 0.0822 - accuracy: 0.9771 - val_loss: 0.0783 - val_accuracy: 0.9790\n",
      "Epoch 13/30\n",
      "84/84 [==============================] - 22s 264ms/step - loss: 0.0616 - accuracy: 0.9824 - val_loss: 0.0535 - val_accuracy: 0.9850\n",
      "Epoch 14/30\n",
      "84/84 [==============================] - 21s 249ms/step - loss: 0.0429 - accuracy: 0.9884 - val_loss: 0.0757 - val_accuracy: 0.9880\n",
      "Epoch 15/30\n",
      "84/84 [==============================] - 21s 254ms/step - loss: 0.0628 - accuracy: 0.9813 - val_loss: 0.0751 - val_accuracy: 0.9865\n",
      "Epoch 16/30\n",
      "84/84 [==============================] - 20s 240ms/step - loss: 0.0562 - accuracy: 0.9828 - val_loss: 0.0788 - val_accuracy: 0.9820\n",
      "Epoch 17/30\n",
      "84/84 [==============================] - 20s 242ms/step - loss: 0.0573 - accuracy: 0.9831 - val_loss: 0.0813 - val_accuracy: 0.9820\n",
      "Epoch 18/30\n",
      "84/84 [==============================] - 21s 250ms/step - loss: 0.0490 - accuracy: 0.9873 - val_loss: 0.0759 - val_accuracy: 0.9790\n",
      "Epoch 19/30\n",
      "84/84 [==============================] - 22s 267ms/step - loss: 0.0518 - accuracy: 0.9873 - val_loss: 0.0797 - val_accuracy: 0.9865\n",
      "Epoch 20/30\n",
      "84/84 [==============================] - 22s 268ms/step - loss: 0.0314 - accuracy: 0.9891 - val_loss: 0.0890 - val_accuracy: 0.9865\n",
      "Epoch 21/30\n",
      "84/84 [==============================] - 23s 280ms/step - loss: 0.0458 - accuracy: 0.9873 - val_loss: 0.0729 - val_accuracy: 0.9910\n",
      "Epoch 22/30\n",
      "84/84 [==============================] - 23s 270ms/step - loss: 0.0677 - accuracy: 0.9813 - val_loss: 0.0673 - val_accuracy: 0.9865\n",
      "Epoch 23/30\n",
      "84/84 [==============================] - 21s 255ms/step - loss: 0.0417 - accuracy: 0.9869 - val_loss: 0.0760 - val_accuracy: 0.9865\n",
      "Epoch 24/30\n",
      "84/84 [==============================] - 23s 274ms/step - loss: 0.0258 - accuracy: 0.9921 - val_loss: 0.0865 - val_accuracy: 0.9805\n",
      "Epoch 25/30\n",
      "84/84 [==============================] - 21s 245ms/step - loss: 0.0484 - accuracy: 0.9865 - val_loss: 0.0688 - val_accuracy: 0.9910\n",
      "Epoch 26/30\n",
      "84/84 [==============================] - 20s 233ms/step - loss: 0.0429 - accuracy: 0.9884 - val_loss: 0.0957 - val_accuracy: 0.9820\n",
      "Epoch 27/30\n",
      "84/84 [==============================] - 20s 236ms/step - loss: 0.0463 - accuracy: 0.9865 - val_loss: 0.0588 - val_accuracy: 0.9910\n",
      "Epoch 28/30\n",
      "84/84 [==============================] - 20s 239ms/step - loss: 0.0198 - accuracy: 0.9948 - val_loss: 0.1140 - val_accuracy: 0.9865\n",
      "Epoch 29/30\n",
      "84/84 [==============================] - 21s 250ms/step - loss: 0.0714 - accuracy: 0.9786 - val_loss: 0.0739 - val_accuracy: 0.9895\n",
      "Epoch 30/30\n",
      "84/84 [==============================] - 22s 257ms/step - loss: 0.0079 - accuracy: 0.9974 - val_loss: 0.0477 - val_accuracy: 0.9925\n"
     ]
    }
   ],
   "source": [
    "model_history = model.fit(X_train, y_train,\n",
    "                          epochs = EPOCHS,\n",
    "                          validation_split = 0.2)"
   ]
  },
  {
   "cell_type": "markdown",
   "metadata": {},
   "source": [
    "## Plotting Accuracy and Loss Curves"
   ]
  },
  {
   "cell_type": "markdown",
   "metadata": {},
   "source": [
    "Summarize history for Accuracy"
   ]
  },
  {
   "cell_type": "code",
   "execution_count": 29,
   "metadata": {},
   "outputs": [],
   "source": [
    "model.save(\"my_model.h5\")"
   ]
  },
  {
   "cell_type": "code",
   "execution_count": 30,
   "metadata": {},
   "outputs": [
    {
     "data": {
      "image/png": "[encoded data removed]",
      "text/plain": [
       "<Figure size 640x480 with 1 Axes>"
      ]
     },
     "metadata": {},
     "output_type": "display_data"
    }
   ],
   "source": [
    "plt.plot(model_history.history['accuracy'])\n",
    "plt.plot(model_history.history['val_accuracy'])\n",
    "plt.title('Model_Accuracy')\n",
    "plt.xlabel('epochs')\n",
    "plt.ylabel('Accuracy')\n",
    "plt.legend(['train', 'test'], loc = 'lower right')\n",
    "plt.show()"
   ]
  },
  {
   "cell_type": "markdown",
   "metadata": {},
   "source": [
    "Summarize history for Loss"
   ]
  },
  {
   "cell_type": "code",
   "execution_count": 31,
   "metadata": {},
   "outputs": [
    {
     "data": {
      "image/png": "[encoded data removed]",
      "text/plain": [
       "<Figure size 640x480 with 1 Axes>"
      ]
     },
     "metadata": {},
     "output_type": "display_data"
    }
   ],
   "source": [
    "plt.plot(model_history.history['loss'])\n",
    "plt.plot(model_history.history['val_loss'])\n",
    "plt.title('Model_Loss')\n",
    "plt.xlabel('epochs')\n",
    "plt.ylabel('Loss')\n",
    "plt.legend(['train', 'test'], loc = 'upper right')\n",
    "plt.show()"
   ]
  },
  {
   "cell_type": "code",
   "execution_count": 32,
   "metadata": {},
   "outputs": [],
   "source": [
    "from sklearn.metrics import accuracy_score,classification_report,confusion_matrix "
   ]
  },
  {
   "cell_type": "code",
   "execution_count": 33,
   "metadata": {},
   "outputs": [],
   "source": [
    "\n",
    "import seaborn as sns"
   ]
  },
  {
   "cell_type": "code",
   "execution_count": 34,
   "metadata": {},
   "outputs": [
    {
     "data": {
      "text/plain": [
       "(834,)"
      ]
     },
     "execution_count": 34,
     "metadata": {},
     "output_type": "execute_result"
    }
   ],
   "source": [
    "y_test.shape"
   ]
  },
  {
   "cell_type": "code",
   "execution_count": 35,
   "metadata": {},
   "outputs": [
    {
     "name": "stdout",
     "output_type": "stream",
     "text": [
      "27/27 [==============================] - 2s 48ms/step\n"
     ]
    }
   ],
   "source": [
    "y_pred = model.predict(X_test).round()"
   ]
  },
  {
   "cell_type": "code",
   "execution_count": 36,
   "metadata": {},
   "outputs": [
    {
     "name": "stdout",
     "output_type": "stream",
     "text": [
      "27/27 [==============================] - 1s 49ms/step\n"
     ]
    }
   ],
   "source": [
    "y_pred = model.predict(X_test)"
   ]
  },
  {
   "cell_type": "code",
   "execution_count": 37,
   "metadata": {},
   "outputs": [],
   "source": [
    "y_pred = [np.argmax(i) for i in y_pred]"
   ]
  },
  {
   "cell_type": "code",
   "execution_count": 38,
   "metadata": {},
   "outputs": [
    {
     "data": {
      "text/plain": [
       "0.9892086330935251"
      ]
     },
     "execution_count": 38,
     "metadata": {},
     "output_type": "execute_result"
    }
   ],
   "source": [
    "accuracy_score(y_test,y_pred)"
   ]
  },
  {
   "cell_type": "code",
   "execution_count": 39,
   "metadata": {},
   "outputs": [
    {
     "name": "stdout",
     "output_type": "stream",
     "text": [
      "              precision    recall  f1-score   support\n",
      "\n",
      "           0       0.93      1.00      0.97        28\n",
      "           1       1.00      1.00      1.00         5\n",
      "           2       1.00      1.00      1.00        18\n",
      "           3       1.00      1.00      1.00        55\n",
      "           4       1.00      0.93      0.96        27\n",
      "           5       1.00      1.00      1.00        37\n",
      "           6       1.00      1.00      1.00        11\n",
      "           7       0.93      1.00      0.97        28\n",
      "           8       1.00      1.00      1.00         4\n",
      "          10       1.00      1.00      1.00        15\n",
      "          11       1.00      1.00      1.00        28\n",
      "          12       1.00      1.00      1.00        20\n",
      "          13       1.00      1.00      1.00         6\n",
      "          14       1.00      1.00      1.00        30\n",
      "          15       1.00      1.00      1.00         4\n",
      "          16       1.00      1.00      1.00        24\n",
      "          17       1.00      1.00      1.00        22\n",
      "          19       0.00      0.00      0.00         2\n",
      "          20       1.00      1.00      1.00         4\n",
      "          21       1.00      1.00      1.00         3\n",
      "          22       1.00      1.00      1.00         5\n",
      "          23       1.00      1.00      1.00         1\n",
      "          24       1.00      1.00      1.00        17\n",
      "          26       1.00      1.00      1.00        29\n",
      "          27       1.00      1.00      1.00         7\n",
      "          28       1.00      1.00      1.00       100\n",
      "          29       1.00      1.00      1.00         7\n",
      "          30       1.00      1.00      1.00        22\n",
      "          31       1.00      1.00      1.00         6\n",
      "          32       1.00      1.00      1.00         4\n",
      "          33       1.00      1.00      1.00         3\n",
      "          34       1.00      1.00      1.00         3\n",
      "          35       1.00      0.97      0.98        31\n",
      "          36       0.83      1.00      0.91         5\n",
      "          37       1.00      1.00      1.00        12\n",
      "          38       1.00      1.00      1.00         6\n",
      "          39       1.00      0.83      0.91        12\n",
      "          40       1.00      1.00      1.00         5\n",
      "          41       1.00      1.00      1.00         3\n",
      "          42       1.00      0.75      0.86         4\n",
      "          43       0.86      1.00      0.92        12\n",
      "          44       0.50      1.00      0.67         1\n",
      "          45       1.00      1.00      1.00         3\n",
      "          46       0.83      1.00      0.91         5\n",
      "          47       1.00      1.00      1.00         1\n",
      "          49       1.00      0.91      0.95        11\n",
      "          50       1.00      1.00      1.00        13\n",
      "          52       1.00      1.00      1.00         6\n",
      "          53       1.00      1.00      1.00         1\n",
      "          54       1.00      1.00      1.00        76\n",
      "          55       1.00      1.00      1.00        34\n",
      "          56       1.00      1.00      1.00        17\n",
      "          57       1.00      1.00      1.00         1\n",
      "\n",
      "    accuracy                           0.99       834\n",
      "   macro avg       0.96      0.97      0.96       834\n",
      "weighted avg       0.99      0.99      0.99       834\n",
      "\n"
     ]
    }
   ],
   "source": [
    "print(classification_report(y_test,y_pred))"
   ]
  },
  {
   "cell_type": "code",
   "execution_count": 40,
   "metadata": {},
   "outputs": [
    {
     "data": {
      "text/plain": [
       "<Axes: >"
      ]
     },
     "execution_count": 40,
     "metadata": {},
     "output_type": "execute_result"
    },
    {
     "data": {
      "image/png": "[encoded data removed]",
      "text/plain": [
       "<Figure size 1300x1300 with 2 Axes>"
      ]
     },
     "metadata": {},
     "output_type": "display_data"
    }
   ],
   "source": [
    "plt.figure(figsize = (13,13))\n",
    "sns.heatmap(confusion_matrix(y_test,y_pred), annot = True,fmt = 'd')"
   ]
  },
  {
   "cell_type": "code",
   "execution_count": null,
   "metadata": {},
   "outputs": [],
   "source": []
  },
  {
   "cell_type": "code",
   "execution_count": 41,
   "metadata": {},
   "outputs": [],
   "source": [
    "model.save('traffic_classifier.h5')"
   ]
  },
  {
   "cell_type": "code",
   "execution_count": null,
   "metadata": {},
   "outputs": [],
   "source": []
  },
  {
   "cell_type": "code",
   "execution_count": 44,
   "metadata": {},
   "outputs": [
    {
     "name": "stdout",
     "output_type": "stream",
     "text": [
      "1/1 [==============================] - 0s 110ms/step\n",
      "Name    Speed limit (5km/h)\n",
      "Name: 0, dtype: object\n",
      "1/1 [==============================] - 0s 24ms/step\n",
      "Name    Speed limit (15km/h)\n",
      "Name: 1, dtype: object\n",
      "1/1 [==============================] - 0s 22ms/step\n",
      "Name    Speed limit (40km/h)\n",
      "Name: 3, dtype: object\n",
      "1/1 [==============================] - 0s 24ms/step\n",
      "Name    Unknown5\n",
      "Name: 49, dtype: object\n",
      "1/1 [==============================] - 0s 23ms/step\n",
      "Name    Dont Go Left or Right\n",
      "Name: 12, dtype: object\n",
      "1/1 [==============================] - 0s 22ms/step\n",
      "Name    Speed limit (30km/h)\n",
      "Name: 2, dtype: object\n",
      "1/1 [==============================] - 0s 28ms/step\n",
      "Name    Dont overtake from Left\n",
      "Name: 14, dtype: object\n",
      "1/1 [==============================] - 0s 34ms/step\n",
      "Name    Unknown8\n",
      "Name: 57, dtype: object\n",
      "1/1 [==============================] - 0s 25ms/step\n",
      "Name    Under Construction\n",
      "Name: 48, dtype: object\n",
      "1/1 [==============================] - 0s 28ms/step\n",
      "Name    Go Right\n",
      "Name: 24, dtype: object\n",
      "1/1 [==============================] - 0s 25ms/step\n",
      "Name    watch out for cars\n",
      "Name: 28, dtype: object\n"
     ]
    }
   ],
   "source": [
    "import tkinter as tk\n",
    "from tkinter import filedialog\n",
    "from tkinter import *\n",
    "from PIL import ImageTk, Image\n",
    "import numpy\n",
    "#load the trained model to classify sign\n",
    "from keras.models import load_model\n",
    "model = load_model('traffic_classifier.h5')\n",
    "#dictionary to label all traffic signs class.\n",
    "classes = label_names\n",
    "#initialise GUI\n",
    "top=tk.Tk()\n",
    "top.geometry('800x600')\n",
    "top.title('Traffic sign classification')\n",
    "top.configure(background='#CDCDCD')\n",
    "label=Label(top,background='#CDCDCD', font=('arial',15,'bold'))\n",
    "sign_image = Label(top)\n",
    "def classify(file_path):\n",
    "    global label_packed\n",
    "    image = Image.open(file_path)\n",
    "    image = image.resize((43,43))\n",
    "    image = numpy.expand_dims(image, axis=0)\n",
    "    image = numpy.array(image)\n",
    "    pred = model.predict([image])[0]\n",
    "    pred = np.argmax(pred)\n",
    "    sign = classes[pred]\n",
    "    sign = df.loc[sign]\n",
    "    print(sign)\n",
    "    label.configure(foreground='#011638', text=sign) \n",
    "def show_classify_button(file_path):\n",
    "    classify_b=Button(top,text=\"Classify Image\",command=lambda: classify(file_path),padx=10,pady=5)\n",
    "    classify_b.configure(background='#364156', foreground='white',font=('arial',10,'bold'))\n",
    "    classify_b.place(relx=0.79,rely=0.46)\n",
    "\n",
    "\n",
    "def upload_image():\n",
    "    try:\n",
    "        file_path=filedialog.askopenfilename()\n",
    "        uploaded=Image.open(file_path)\n",
    "        uploaded.thumbnail(((top.winfo_width()/2.25),(top.winfo_height()/2.25)))\n",
    "        im=ImageTk.PhotoImage(uploaded)\n",
    "        sign_image.configure(image=im)\n",
    "        sign_image.image=im\n",
    "        label.configure(text='')\n",
    "        show_classify_button(file_path)\n",
    "    except:\n",
    "        pass\n",
    "\n",
    "upload=Button(top,text=\"Upload an image\",command=upload_image,padx=10,pady=5)\n",
    "upload.configure(background='#364156', foreground='white',font=('arial',10,'bold'))\n",
    "upload.pack(side=BOTTOM,pady=50)\n",
    "sign_image.pack(side=BOTTOM,expand=True)\n",
    "label.pack(side=BOTTOM,expand=True)\n",
    "heading = Label(top, text=\"Know Your Traffic Sign\",pady=20, font=('arial',20,'bold'))\n",
    "heading.configure(background='#CDCDCD',foreground='#364156')\n",
    "heading.pack()\n",
    "top.mainloop()\n",
    "\n",
    "\n"
   ]
  },
  {
   "cell_type": "code",
   "execution_count": null,
   "metadata": {},
   "outputs": [],
   "source": []
  },
  {
   "cell_type": "code",
   "execution_count": null,
   "metadata": {},
   "outputs": [],
   "source": []
  }
 ],
 "metadata": {
  "kernelspec": {
   "display_name": "Python 3 (ipykernel)",
   "language": "python",
   "name": "python3"
  },
  "language_info": {
   "codemirror_mode": {
    "name": "ipython",
    "version": 3
   },
   "file_extension": ".py",
   "mimetype": "text/x-python",
   "name": "python",
   "nbconvert_exporter": "python",
   "pygments_lexer": "ipython3",
   "version": "3.10.9"
  }
 },
 "nbformat": 4,
 "nbformat_minor": 2
}
